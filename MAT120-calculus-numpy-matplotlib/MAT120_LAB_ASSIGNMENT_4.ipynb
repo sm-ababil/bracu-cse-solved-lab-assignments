{
  "nbformat": 4,
  "nbformat_minor": 0,
  "metadata": {
    "colab": {
      "provenance": []
    },
    "kernelspec": {
      "name": "python3",
      "display_name": "Python 3"
    },
    "language_info": {
      "name": "python"
    }
  },
  "cells": [
    {
      "cell_type": "code",
      "execution_count": null,
      "metadata": {
        "colab": {
          "base_uri": "https://localhost:8080/"
        },
        "id": "7LjeE7Yttjsi",
        "outputId": "e0cced6a-927f-47f6-f199-29b2580842db"
      },
      "outputs": [
        {
          "output_type": "stream",
          "name": "stdout",
          "text": [
            "y(x) = C₁⋅sin(4⋅x) + C₂⋅cos(4⋅x)\n"
          ]
        }
      ],
      "source": [
        "#Task 1\n",
        "\n",
        "from sympy import*\n",
        "init_printing()\n",
        "x = symbols(\"x\")\n",
        "y = Function(\"y\")\n",
        "y1 = Derivative(y(x), x)\n",
        "y2 = Derivative(y(x),x,x)\n",
        "eq = y2 + 16*y(x)\n",
        "sol = dsolve(eq, y(x))\n",
        "pprint(sol)"
      ]
    },
    {
      "cell_type": "code",
      "source": [
        "#Task 2\n",
        "\n",
        "from sympy import*\n",
        "init_printing()\n",
        "x = symbols(\"x\")\n",
        "y = Function(\"y\")\n",
        "y1 = Derivative(y(x), x)\n",
        "y2 = Derivative(y(x),x,x)\n",
        "eq = y2 - 6*y1 + 5*y(x)\n",
        "sol = dsolve(eq, y(x))\n",
        "pprint(sol)"
      ],
      "metadata": {
        "colab": {
          "base_uri": "https://localhost:8080/"
        },
        "id": "DH2fnGVbt4kV",
        "outputId": "4a682ea6-61d9-4a1c-d01b-2d5491e18c74"
      },
      "execution_count": null,
      "outputs": [
        {
          "output_type": "stream",
          "name": "stdout",
          "text": [
            "       ⎛         4⋅x⎞  x\n",
            "y(x) = ⎝C₁ + C₂⋅ℯ   ⎠⋅ℯ \n"
          ]
        }
      ]
    },
    {
      "cell_type": "code",
      "source": [
        "#Task 3\n",
        "\n",
        "from sympy import*\n",
        "init_printing()\n",
        "x = symbols(\"x\")\n",
        "y = Function(\"y\")\n",
        "y1 = Derivative(y(x), x)\n",
        "y2 = Derivative(y(x),x,x)\n",
        "eq = y2 - y1 + 6*y(x)\n",
        "sol = dsolve(eq, y(x), ics = {y(0):1, y(x).diff(x).subs(x,0):0})\n",
        "pprint(sol)"
      ],
      "metadata": {
        "colab": {
          "base_uri": "https://localhost:8080/"
        },
        "id": "l6_2xN2auSHt",
        "outputId": "42335ec9-7219-4226-e3ff-73c11c3a3c7a"
      },
      "execution_count": null,
      "outputs": [
        {
          "output_type": "stream",
          "name": "stdout",
          "text": [
            "       ⎛         ⎛√23⋅x⎞             ⎞  x\n",
            "       ⎜  √23⋅sin⎜─────⎟             ⎟  ─\n",
            "       ⎜         ⎝  2  ⎠      ⎛√23⋅x⎞⎟  2\n",
            "y(x) = ⎜- ────────────── + cos⎜─────⎟⎟⋅ℯ \n",
            "       ⎝        23            ⎝  2  ⎠⎠   \n"
          ]
        }
      ]
    }
  ]
}