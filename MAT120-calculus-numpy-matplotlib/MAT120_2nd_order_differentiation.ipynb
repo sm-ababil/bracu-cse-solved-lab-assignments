{
  "nbformat": 4,
  "nbformat_minor": 0,
  "metadata": {
    "colab": {
      "provenance": []
    },
    "kernelspec": {
      "name": "python3",
      "display_name": "Python 3"
    },
    "language_info": {
      "name": "python"
    }
  },
  "cells": [
    {
      "cell_type": "code",
      "execution_count": null,
      "metadata": {
        "colab": {
          "base_uri": "https://localhost:8080/"
        },
        "id": "0XhHfAJrpfx-",
        "outputId": "8857caea-88f9-42a8-8868-d86a6cab1f93"
      },
      "outputs": [
        {
          "output_type": "stream",
          "name": "stdout",
          "text": [
            "y(x) = C₁⋅sin(3⋅x) + C₂⋅cos(3⋅x)\n"
          ]
        }
      ],
      "source": [
        "from sympy import*\n",
        "init_printing()\n",
        "x = symbols(\"x\")\n",
        "y = Function(\"y\")\n",
        "y1 = Derivative(y(x), x)\n",
        "y2 = Derivative(y(x),x,x)\n",
        "eq = y2 + 9*y(x)\n",
        "sol = dsolve(eq, y(x))\n",
        "pprint(sol)"
      ]
    },
    {
      "cell_type": "code",
      "source": [
        "from sympy import*\n",
        "init_printing()\n",
        "x = symbols(\"x\")\n",
        "y = Function(\"y\")\n",
        "y1 = Derivative(y(x), x)\n",
        "y2 = Derivative(y(x),x,x)\n",
        "eq = y2 + 9*y(x)\n",
        "sol = dsolve(eq, y(x), ics = {y(pi/4):0, y(x).diff(x).subs(x,pi/4):3*sqrt(2)})\n",
        "pprint(sol)"
      ],
      "metadata": {
        "colab": {
          "base_uri": "https://localhost:8080/"
        },
        "id": "d9LdGd_QsEfX",
        "outputId": "6814b539-be37-4e47-9904-076a3af57f28"
      },
      "execution_count": null,
      "outputs": [
        {
          "output_type": "stream",
          "name": "stdout",
          "text": [
            "y(x) = -sin(3⋅x) - cos(3⋅x)\n"
          ]
        }
      ]
    }
  ]
}