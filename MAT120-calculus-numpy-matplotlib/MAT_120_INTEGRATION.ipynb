{
  "nbformat": 4,
  "nbformat_minor": 0,
  "metadata": {
    "colab": {
      "provenance": []
    },
    "kernelspec": {
      "name": "python3",
      "display_name": "Python 3"
    },
    "language_info": {
      "name": "python"
    }
  },
  "cells": [
    {
      "cell_type": "code",
      "execution_count": null,
      "metadata": {
        "colab": {
          "base_uri": "https://localhost:8080/",
          "height": 54
        },
        "id": "bdsEShHudTm1",
        "outputId": "ed29804f-8b03-45f1-d2e6-af4f04d07116"
      },
      "outputs": [
        {
          "output_type": "execute_result",
          "data": {
            "text/plain": [
              "x**2*exp(-x)*sin(x)/2 - x**2*exp(-x)*cos(x)/2 + x*exp(-x)*sin(x) + exp(-x)*sin(x)/2 + exp(-x)*cos(x)/2"
            ],
            "text/latex": "$\\displaystyle \\frac{x^{2} e^{- x} \\sin{\\left(x \\right)}}{2} - \\frac{x^{2} e^{- x} \\cos{\\left(x \\right)}}{2} + x e^{- x} \\sin{\\left(x \\right)} + \\frac{e^{- x} \\sin{\\left(x \\right)}}{2} + \\frac{e^{- x} \\cos{\\left(x \\right)}}{2}$"
          },
          "metadata": {},
          "execution_count": 1
        }
      ],
      "source": [
        "from sympy import*\n",
        "\n",
        "x = symbols(\"x\")\n",
        "f = exp(-x)*x**2*cos(x)\n",
        "integrate(f,x)"
      ]
    },
    {
      "cell_type": "code",
      "source": [
        "from sympy import*\n",
        "\n",
        "x = symbols(\"x\")\n",
        "f = sin(x)**3*exp(-5*x)\n",
        "integrate(f, x).simplify()"
      ],
      "metadata": {
        "colab": {
          "base_uri": "https://localhost:8080/",
          "height": 54
        },
        "id": "2GXsWO_ieWVe",
        "outputId": "13e6c683-d269-48f2-c548-8afe65858eb0"
      },
      "execution_count": null,
      "outputs": [
        {
          "output_type": "execute_result",
          "data": {
            "text/plain": [
              "(-255*sin(x) + 65*sin(3*x) - 51*cos(x) + 39*cos(3*x))*exp(-5*x)/1768"
            ],
            "text/latex": "$\\displaystyle \\frac{\\left(- 255 \\sin{\\left(x \\right)} + 65 \\sin{\\left(3 x \\right)} - 51 \\cos{\\left(x \\right)} + 39 \\cos{\\left(3 x \\right)}\\right) e^{- 5 x}}{1768}$"
          },
          "metadata": {},
          "execution_count": 2
        }
      ]
    },
    {
      "cell_type": "code",
      "source": [
        "x = symbols(\"x\")\n",
        "f = cbrt(1+sqrt(x))/sqrt(x)\n",
        "integrate(f, x).simplify()"
      ],
      "metadata": {
        "colab": {
          "base_uri": "https://localhost:8080/",
          "height": 59
        },
        "id": "o6vkCxLRhWJq",
        "outputId": "df9e6495-cd28-4ca7-a152-87bd18efdabc"
      },
      "execution_count": null,
      "outputs": [
        {
          "output_type": "execute_result",
          "data": {
            "text/plain": [
              "3*(sqrt(x) + 1)**(4/3)/2"
            ],
            "text/latex": "$\\displaystyle \\frac{3 \\left(\\sqrt{x} + 1\\right)^{\\frac{4}{3}}}{2}$"
          },
          "metadata": {},
          "execution_count": 3
        }
      ]
    },
    {
      "cell_type": "code",
      "source": [
        "x = symbols(\"x\")\n",
        "f = cbrt(1+sqrt(x))/sqrt(x)\n",
        "#integrate(f, (x, 0, 4)).simplify()\n",
        "integrate(f, (x, 0, 4)).evalf()  #for floating number"
      ],
      "metadata": {
        "colab": {
          "base_uri": "https://localhost:8080/",
          "height": 55
        },
        "id": "ADuLdEocjIgP",
        "outputId": "06cf2cb9-6acd-4ae7-9b7e-1b398abdac6d"
      },
      "execution_count": null,
      "outputs": [
        {
          "output_type": "execute_result",
          "data": {
            "text/plain": [
              "-3/2 + 9*3**(1/3)/2"
            ],
            "text/latex": "$\\displaystyle - \\frac{3}{2} + \\frac{9 \\sqrt[3]{3}}{2}$"
          },
          "metadata": {},
          "execution_count": 11
        }
      ]
    },
    {
      "cell_type": "code",
      "source": [
        "x = symbols(\"x\")\n",
        "f = exp(x)/(exp(x)+9)\n",
        "integrate(f, (x, 0, log(4))).evalf()"
      ],
      "metadata": {
        "colab": {
          "base_uri": "https://localhost:8080/",
          "height": 37
        },
        "id": "0iH2dxoOj8oy",
        "outputId": "578366d0-e09d-4826-a3d8-2407fb9a4ba6"
      },
      "execution_count": null,
      "outputs": [
        {
          "output_type": "execute_result",
          "data": {
            "text/plain": [
              "0.262364264467491"
            ],
            "text/latex": "$\\displaystyle 0.262364264467491$"
          },
          "metadata": {},
          "execution_count": 5
        }
      ]
    },
    {
      "cell_type": "code",
      "source": [
        "x = symbols(\"x\")\n",
        "f = exp(-sin(x))\n",
        "integrate(f, (x, 1, 2))"
      ],
      "metadata": {
        "colab": {
          "base_uri": "https://localhost:8080/",
          "height": 80
        },
        "id": "5_AVyaskgDbq",
        "outputId": "2d3c7c22-0dcf-4338-e0d8-c52ac82b82bc"
      },
      "execution_count": null,
      "outputs": [
        {
          "output_type": "execute_result",
          "data": {
            "text/plain": [
              "Integral(exp(-sin(x)), (x, 1, 2))"
            ],
            "text/latex": "$\\displaystyle \\int\\limits_{1}^{2} e^{- \\sin{\\left(x \\right)}}\\, dx$"
          },
          "metadata": {},
          "execution_count": 13
        }
      ]
    },
    {
      "cell_type": "code",
      "source": [
        "import numpy as np\n",
        "import scipy as sp\n",
        "from scipy.integrate import quad\n",
        "f = lambda x: np.exp(-np.sin(x))\n",
        "quad(f, 1, 2)"
      ],
      "metadata": {
        "colab": {
          "base_uri": "https://localhost:8080/"
        },
        "id": "YsvilPeWkDrl",
        "outputId": "ff62169d-6530-4d49-b780-6edb0aad028e"
      },
      "execution_count": null,
      "outputs": [
        {
          "output_type": "execute_result",
          "data": {
            "text/plain": [
              "(0.3845918142796868, 4.2698268729567035e-15)"
            ]
          },
          "metadata": {},
          "execution_count": 16
        }
      ]
    }
  ]
}