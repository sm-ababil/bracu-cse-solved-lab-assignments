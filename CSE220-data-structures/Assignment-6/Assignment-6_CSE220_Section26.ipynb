{
 "cells": [
  {
   "cell_type": "code",
   "execution_count": 10,
   "metadata": {},
   "outputs": [],
   "source": [
    "import numpy as np"
   ]
  },
  {
   "cell_type": "markdown",
   "metadata": {},
   "source": [
    "# 1.a"
   ]
  },
  {
   "cell_type": "code",
   "execution_count": 28,
   "metadata": {},
   "outputs": [
    {
     "name": "stdout",
     "output_type": "stream",
     "text": [
      "171122452428141311372468338881272839092270544893520369393648040923257279754140647424000000000000000\n"
     ]
    }
   ],
   "source": [
    "def factorial(n):\n",
    "    if n==1:\n",
    "        return 1\n",
    "    else:\n",
    "        return n*factorial(n-1)\n",
    "    \n",
    "print(factorial(69))"
   ]
  },
  {
   "cell_type": "markdown",
   "metadata": {},
   "source": [
    "# 1.b"
   ]
  },
  {
   "cell_type": "code",
   "execution_count": 12,
   "metadata": {},
   "outputs": [
    {
     "name": "stdout",
     "output_type": "stream",
     "text": [
      "514229\n"
     ]
    }
   ],
   "source": [
    "def fibonacci(n):\n",
    "    if n==0 or n==1:\n",
    "        return n\n",
    "    else:\n",
    "        return fibonacci(n-1) + fibonacci(n-2)\n",
    "\n",
    "print(fibonacci(29))"
   ]
  },
  {
   "cell_type": "markdown",
   "metadata": {},
   "source": [
    "# 1.c"
   ]
  },
  {
   "cell_type": "code",
   "execution_count": 13,
   "metadata": {},
   "outputs": [
    {
     "name": "stdout",
     "output_type": "stream",
     "text": [
      "23 45 667 34 "
     ]
    }
   ],
   "source": [
    "def element(arr):\n",
    "    if len(arr)==0:\n",
    "        return\n",
    "    else:\n",
    "        print(arr[0], end=\" \")\n",
    "        element(arr[1:])\n",
    "\n",
    "arr = np.array([23,45,667,34])\n",
    "element(arr)"
   ]
  },
  {
   "cell_type": "markdown",
   "metadata": {},
   "source": [
    "# 1.d"
   ]
  },
  {
   "cell_type": "code",
   "execution_count": 15,
   "metadata": {},
   "outputs": [
    {
     "name": "stdout",
     "output_type": "stream",
     "text": [
      "8\n"
     ]
    }
   ],
   "source": [
    "def power(n, pow):\n",
    "    if n == 0 and pow == 0:\n",
    "        return \"ERROR\"\n",
    "    elif pow == 0:\n",
    "        return 1\n",
    "    else:\n",
    "        return n*power(n, pow-1)\n",
    "\n",
    "a = int(input(\"Enter the base: \"))\n",
    "b = int(input(\"Enter the power: \"))\n",
    "print(power(a,b))"
   ]
  },
  {
   "cell_type": "markdown",
   "metadata": {},
   "source": [
    "# 2.a"
   ]
  },
  {
   "cell_type": "code",
   "execution_count": 18,
   "metadata": {},
   "outputs": [
    {
     "name": "stdout",
     "output_type": "stream",
     "text": [
      "100010 \n"
     ]
    }
   ],
   "source": [
    "def binary(n, r):\n",
    "    if n == 0:\n",
    "        return r\n",
    "    else:\n",
    "        r = str(n%2)+r\n",
    "        return binary(n//2, r)\n",
    "r = \" \"\n",
    "print(binary(34, r))    "
   ]
  },
  {
   "cell_type": "markdown",
   "metadata": {},
   "source": [
    "# 2.b"
   ]
  },
  {
   "cell_type": "code",
   "execution_count": 27,
   "metadata": {},
   "outputs": [
    {
     "name": "stdout",
     "output_type": "stream",
     "text": [
      "245\n"
     ]
    }
   ],
   "source": [
    "class Node:\n",
    "    def __init__(self, elem = None, next = None):\n",
    "        self.elem = elem\n",
    "        self.next = next\n",
    "\n",
    "def element(head):\n",
    "    if head.next == None:\n",
    "        return head.elem\n",
    "    else:\n",
    "        return head.elem + element(head.next)\n",
    "\n",
    "n4 = Node(69, None)\n",
    "n3 = Node(59, n4)\n",
    "n2 = Node(49, n3)\n",
    "n1 = Node(39, n2)\n",
    "head = Node(29, n1)\n",
    "\n",
    "print(element(head))"
   ]
  },
  {
   "cell_type": "markdown",
   "metadata": {},
   "source": [
    "# 2.c"
   ]
  },
  {
   "cell_type": "code",
   "execution_count": 24,
   "metadata": {},
   "outputs": [
    {
     "name": "stdout",
     "output_type": "stream",
     "text": [
      "45\n",
      "40\n",
      "23\n",
      "15\n",
      "5\n"
     ]
    }
   ],
   "source": [
    "class Node:\n",
    "    def __init__(self, elem = None, next = None):\n",
    "        self.elem = elem\n",
    "        self.next = next\n",
    "\n",
    "def reverse(head):\n",
    "    if head.next == None:\n",
    "        print(head.elem)\n",
    "    else:\n",
    "        reverse(head.next)\n",
    "        print(head.elem)\n",
    "\n",
    "n4 = Node(45,None)\n",
    "n3 = Node(40, n4)\n",
    "n2 = Node(23, n3)\n",
    "n1 = Node(15, n2)\n",
    "head = Node(5, n1)\n",
    "\n",
    "reverse(head)\n",
    "    "
   ]
  },
  {
   "cell_type": "markdown",
   "metadata": {},
   "source": [
    "# 3"
   ]
  },
  {
   "cell_type": "code",
   "execution_count": 30,
   "metadata": {},
   "outputs": [
    {
     "name": "stdout",
     "output_type": "stream",
     "text": [
      "28\n"
     ]
    }
   ],
   "source": [
    "def hocBuilder(height):\n",
    "    if height == 0:\n",
    "        return \"Not possible\"\n",
    "    elif height == 1:\n",
    "        return 8\n",
    "    else:\n",
    "        return 5 + hocBuilder(height - 1)\n",
    "\n",
    "print(hocBuilder(5))"
   ]
  },
  {
   "cell_type": "markdown",
   "metadata": {},
   "source": [
    "# 4.a"
   ]
  },
  {
   "cell_type": "code",
   "execution_count": 33,
   "metadata": {},
   "outputs": [
    {
     "name": "stdout",
     "output_type": "stream",
     "text": [
      "1 \n",
      "1 2 \n",
      "1 2 3 \n",
      "1 2 3 4 \n",
      "1 2 3 4 5 \n",
      "1 2 3 4 5 6 \n",
      "1 2 3 4 5 6 7 \n"
     ]
    }
   ],
   "source": [
    "def row(n, r = 1):\n",
    "    if r == n+1:\n",
    "        return\n",
    "    col(r)\n",
    "    print()\n",
    "    row(n, r+1)\n",
    "\n",
    "def col(p, c = 1):\n",
    "    if p+1 == c:\n",
    "        return\n",
    "    else:\n",
    "        print(c, end = \" \")\n",
    "        col(p, c+1)\n",
    "\n",
    "row(7)"
   ]
  },
  {
   "cell_type": "markdown",
   "metadata": {},
   "source": [
    "# 4.b"
   ]
  },
  {
   "cell_type": "code",
   "execution_count": 34,
   "metadata": {},
   "outputs": [
    {
     "name": "stdout",
     "output_type": "stream",
     "text": [
      "            1 \n",
      "          1 2 \n",
      "        1 2 3 \n",
      "      1 2 3 4 \n",
      "    1 2 3 4 5 \n",
      "  1 2 3 4 5 6 \n",
      "1 2 3 4 5 6 7 \n"
     ]
    }
   ],
   "source": [
    "def row(n, r=1):\n",
    "    if r==n+1:\n",
    "        return\n",
    "    else:\n",
    "        space(n,r)\n",
    "        col(r)\n",
    "        print()\n",
    "        return row(n,r+1)\n",
    "\n",
    "def space(n,r,s=1):\n",
    "    if n-r+1==s:\n",
    "        return\n",
    "    print(\" \", end=\" \")\n",
    "    space(n,r,s+1)\n",
    "\n",
    "def col(r, c=1):\n",
    "    if c==r+1:\n",
    "        return\n",
    "    print(c, end = \" \")\n",
    "    return col(r, c+1)\n",
    "\n",
    "row(7)"
   ]
  },
  {
   "cell_type": "markdown",
   "metadata": {},
   "source": [
    "# 5"
   ]
  },
  {
   "cell_type": "code",
   "execution_count": 38,
   "metadata": {},
   "outputs": [
    {
     "name": "stdout",
     "output_type": "stream",
     "text": [
      "Investment: 25000; Profit: 0.0\n",
      "Investment: 100000; Profit: 3375.0\n",
      "Investment: 250000; Profit: 15375.0\n",
      "Investment: 350000; Profit: 23375.0\n"
     ]
    }
   ],
   "source": [
    "import sys\n",
    "sys.setrecursionlimit(10000)\n",
    "\n",
    "class FinalQ:\n",
    "    def __init__(self):\n",
    "        self.profit = {}\n",
    "\n",
    "    def print(self, array, idx):\n",
    "        if idx < len(array):\n",
    "            p = self.calcProfit(array[idx])\n",
    "            print(f\"Investment: {array[idx]}; Profit: {p:.1f}\")\n",
    "            self.print(array, idx + 1)\n",
    "\n",
    "    def calcProfit(self, inv):\n",
    "        if inv in self.profit:\n",
    "            return self.profit[inv]\n",
    "\n",
    "        if inv <= 25000:\n",
    "            return 0\n",
    "        elif 25000 < inv <= 100000:\n",
    "            p = 45 + self.calcProfit(inv - 1000)\n",
    "        else:\n",
    "            p = 80 + self.calcProfit(inv - 1000)\n",
    "\n",
    "        self.profit[inv] = p\n",
    "        return p\n",
    "\n",
    "array = [25000, 100000, 250000, 350000]\n",
    "f = FinalQ()\n",
    "f.print(array, 0)"
   ]
  },
  {
   "cell_type": "markdown",
   "metadata": {},
   "source": [
    "# ClassWork"
   ]
  },
  {
   "cell_type": "code",
   "execution_count": 40,
   "metadata": {},
   "outputs": [
    {
     "name": "stdout",
     "output_type": "stream",
     "text": [
      "[1, 2, 3, 4, 5, 6, 7, 8, 9, 10, 11, 12, 13, 14, 15, 16, 17]\n"
     ]
    }
   ],
   "source": [
    "class Node:\n",
    "    def __init__(self, next, bottom, val):\n",
    "        self.next = next\n",
    "        self.bottom = bottom\n",
    "        self.val = val\n",
    "\n",
    "def flattenList(given_list, output_list):\n",
    "    if len(given_list)==0:\n",
    "        return output_list\n",
    "\n",
    "    head, *tail = given_list\n",
    "\n",
    "    if type(head)== list:\n",
    "        flattenList(head, output_list)\n",
    "    else:\n",
    "        output_list+=[head]\n",
    "    return flattenList(tail, output_list)\n",
    "\n",
    "given_list = [1, [2, [3, [4], 5], 6], 7, 8, [9, [[10, 11], 12], 13], 14, [15, [16, [17]]]]\n",
    "output_list = flattenList(given_list, [])\n",
    "print(output_list)"
   ]
  }
 ],
 "metadata": {
  "kernelspec": {
   "display_name": "Python 3",
   "language": "python",
   "name": "python3"
  },
  "language_info": {
   "codemirror_mode": {
    "name": "ipython",
    "version": 3
   },
   "file_extension": ".py",
   "mimetype": "text/x-python",
   "name": "python",
   "nbconvert_exporter": "python",
   "pygments_lexer": "ipython3",
   "version": "3.11.3"
  },
  "orig_nbformat": 4
 },
 "nbformat": 4,
 "nbformat_minor": 2
}
