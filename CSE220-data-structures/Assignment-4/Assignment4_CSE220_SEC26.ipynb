{
  "nbformat": 4,
  "nbformat_minor": 0,
  "metadata": {
    "colab": {
      "provenance": []
    },
    "kernelspec": {
      "name": "python3",
      "display_name": "Python 3"
    },
    "language_info": {
      "name": "python"
    }
  },
  "cells": [
    {
      "cell_type": "code",
      "execution_count": 10,
      "metadata": {
        "id": "HSFCjH_-usmV"
      },
      "outputs": [],
      "source": [
        "class Patient:\n",
        "    def __init__(self, id = None, name =  None, age = None, bloodgroup = None, next = None, prev = None):\n",
        "        self.id = id\n",
        "        self.name = name\n",
        "        self.age = age\n",
        "        self.bloodgroup = bloodgroup\n",
        "        self.next = next\n",
        "        self.prev = prev"
      ]
    },
    {
      "cell_type": "code",
      "source": [
        "class WRM:\n",
        "    def __init__(self):\n",
        "        self.dh = Patient()\n",
        "        self.dh.next = self.dh\n",
        "        self.dh.prev = self.dh\n",
        "\n",
        "    def RegisterPatient(self, id=None, name=None, age=None, bloodgroup=None):\n",
        "        added_patient = Patient()\n",
        "        if id == None or name == None or age == None or bloodgroup == None:\n",
        "            print(\"Insufficient information given. Adding patient unsuccessful.\")\n",
        "        else:\n",
        "            tail = self.dh.prev\n",
        "            tail.next = added_patient\n",
        "            added_patient.prev = tail\n",
        "            added_patient.next = self.dh\n",
        "            self.dh.prev = added_patient\n",
        "            added_patient.id = id\n",
        "            added_patient.name = name\n",
        "            added_patient.age = age\n",
        "            added_patient.bloodgroup = bloodgroup\n",
        "            print(\"Patient successfully added.\")\n",
        "\n",
        "    def ServePatient(self):\n",
        "        print(f\"Patient named {self.dh.next.name} has been served\")\n",
        "        n = self.dh.next\n",
        "        self.dh.next = n.next\n",
        "        n.next.prev = self.dh\n",
        "\n",
        "    def CancelAll(self):\n",
        "        self.dh.next = self.dh\n",
        "        if self.dh.next == self.dh:\n",
        "            print(\"All the appointments have been cancelled. Doctor can go to lunch.\")\n",
        "        else:\n",
        "            print(\"Cancelling unsuccessfull.\")\n",
        "\n",
        "    def CanDoctorGoHome(self):\n",
        "        if self.dh.next == self.dh:\n",
        "            print(\"Yes. Doctor can go home.\")\n",
        "        else:\n",
        "            print(\"No. There are still some patients in the waitng room.\")\n",
        "\n",
        "    def ShowAllPatient(self):\n",
        "        if self.dh.next == self.dh:\n",
        "            print(\"There is no patient in the waiting room.\")\n",
        "        else:\n",
        "            temp = self.dh.next\n",
        "            count = 1\n",
        "            print(\"Patients List:\")\n",
        "            while temp != self.dh:\n",
        "                print(f\"{count}. {temp.name}\")\n",
        "                temp = temp.next\n",
        "                count+=1"
      ],
      "metadata": {
        "id": "6XwisialutMt"
      },
      "execution_count": 17,
      "outputs": []
    },
    {
      "cell_type": "code",
      "source": [
        "waiting_room = WRM()\n",
        "while True:\n",
        "    print(\"Choose any of the operations:\")\n",
        "    print(f\"0. Quit\\n1. Register Patient\\n2. Serve patient\\n3. Cancel All\\n4. Can doctor go home ?\\n5. Show all patient\\n\")\n",
        "    num = int(input(\"Enter the operation number: \"))\n",
        "    print()\n",
        "    if num == 0:\n",
        "        print(\"Quitted.\")\n",
        "        break\n",
        "    elif num == 1:\n",
        "        id = int(input(\"Patient ID: \"))\n",
        "        name = input(\"Name: \")\n",
        "        age = int(input(\"Age: \"))\n",
        "        blood = input(\"Blood Group: \")\n",
        "        waiting_room.RegisterPatient(id,name,age,blood)\n",
        "        print()\n",
        "    elif num == 2:\n",
        "        waiting_room.ServePatient()\n",
        "        print()\n",
        "    elif num == 3:\n",
        "        waiting_room.CancelAll()\n",
        "        print()\n",
        "    elif num == 4:\n",
        "        waiting_room.CanDoctorGoHome()\n",
        "        print()\n",
        "    elif num == 5:\n",
        "        waiting_room.ShowAllPatient()\n",
        "        print()\n",
        "    else:\n",
        "        print(\"Invalid operation number ! Please, enter valid number (between 0-5).\")\n",
        "        print()"
      ],
      "metadata": {
        "id": "7PdK7n1uutXk"
      },
      "execution_count": null,
      "outputs": []
    }
  ]
}