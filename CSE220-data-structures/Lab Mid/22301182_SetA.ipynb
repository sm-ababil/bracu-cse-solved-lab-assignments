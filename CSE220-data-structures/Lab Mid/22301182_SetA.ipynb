{
  "nbformat": 4,
  "nbformat_minor": 0,
  "metadata": {
    "colab": {
      "provenance": []
    },
    "kernelspec": {
      "name": "python3",
      "display_name": "Python 3"
    },
    "language_info": {
      "name": "python"
    }
  },
  "cells": [
    {
      "cell_type": "code",
      "execution_count": null,
      "metadata": {
        "id": "ZaNp_4Qy90Tb"
      },
      "outputs": [],
      "source": [
        "class Node:\n",
        "  def __init__(self, elem = None, next = None):\n",
        "    self.elem = elem\n",
        "    self.next = next\n",
        "\n",
        "class LinkedList:\n",
        "  def __init__(self, arr):\n",
        "    self.head = Node(arr[0])\n",
        "    self.tail = self.head\n",
        "    for i in range(1, len(arr)):\n",
        "      n = Node(arr[i])\n",
        "      self.tail.next = n\n",
        "      self.tail = self.tail.next\n",
        "    return self.head\n",
        "\n",
        "def remove_duplicates(head):\n",
        "  tail = head\n",
        "  while tail != None:\n",
        "    if (tail.next != None) and (tail.elem == tail.next.elem):\n",
        "      temp = tail.next.next\n",
        "      tail.next = temp\n",
        "      tail = temp\n",
        "    else:\n",
        "      tail = tail.next\n",
        "  return head"
      ]
    }
  ]
}