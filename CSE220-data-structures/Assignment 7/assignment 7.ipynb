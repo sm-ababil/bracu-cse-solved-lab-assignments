{
  "cells": [
    {
      "cell_type": "code",
      "execution_count": 1,
      "metadata": {
        "colab": {
          "base_uri": "https://localhost:8080/"
        },
        "id": "CvHWU9VwU1DB",
        "outputId": "e219160f-d763-42c1-c8dd-ac01a0c48bb0"
      },
      "outputs": [
        {
          "name": "stdout",
          "output_type": "stream",
          "text": [
            "Requirement already satisfied: fhm-unittest in c:\\users\\oti\\appdata\\local\\programs\\python\\python311\\lib\\site-packages (1.0.1)\n"
          ]
        },
        {
          "name": "stderr",
          "output_type": "stream",
          "text": [
            "\n",
            "[notice] A new release of pip is available: 23.1.2 -> 23.2.1\n",
            "[notice] To update, run: python.exe -m pip install --upgrade pip\n"
          ]
        },
        {
          "name": "stdout",
          "output_type": "stream",
          "text": [
            "Requirement already satisfied: fuzzywuzzy in c:\\users\\oti\\appdata\\local\\programs\\python\\python311\\lib\\site-packages (0.18.0)\n"
          ]
        },
        {
          "name": "stderr",
          "output_type": "stream",
          "text": [
            "\n",
            "[notice] A new release of pip is available: 23.1.2 -> 23.2.1\n",
            "[notice] To update, run: python.exe -m pip install --upgrade pip\n"
          ]
        }
      ],
      "source": [
        "# You must run this cell to install dependency\n",
        "! pip3 install fhm-unittest\n",
        "! pip3 install fuzzywuzzy\n",
        "import fhm_unittest as unittest\n",
        "import numpy as np"
      ]
    },
    {
      "cell_type": "markdown",
      "metadata": {
        "id": "uuc9lAd6YgTI"
      },
      "source": [
        "Run this cell first"
      ]
    },
    {
      "cell_type": "code",
      "execution_count": 2,
      "metadata": {
        "id": "BQi67-3NU3GS"
      },
      "outputs": [],
      "source": [
        "class Node:\n",
        "  def __init__(self, elem, next = None):\n",
        "    self.elem, self.next = elem, next\n",
        "\n",
        "def create_linked_list(arr):\n",
        "  head = Node(arr[0])\n",
        "  tail = head\n",
        "  for i in arr[1:]:\n",
        "    new_node = Node(i)\n",
        "    tail.next = new_node\n",
        "    tail = new_node\n",
        "  return head\n",
        "\n",
        "def count(head):\n",
        "  count = 0\n",
        "  while head != None:\n",
        "    count += 1\n",
        "    head = head.next\n",
        "  return count\n",
        "\n",
        "def print_linked_list(head):\n",
        "  while head != None:\n",
        "    print(head.elem, end = '-> ')\n",
        "    head = head.next\n",
        "  print('None')\n",
        "  print()"
      ]
    },
    {
      "cell_type": "markdown",
      "metadata": {
        "id": "34hWSyDJYn25"
      },
      "source": [
        "#TASK 1\n",
        "> You can use Dictionary, Set and membership operator (in/not in) for this task. Membership Operator takes constant time in these unordered collections.\n",
        "\n",
        "\n",
        "\n",
        "However,\n",
        "\n",
        "\n",
        ">  ***DO NOT USE*** Membership Operator in List, String for this task.\n",
        "\n",
        "> You can traverse the array ***ONLY ONCE*** (i.e. no nested loop).\n",
        "\n",
        "\n",
        "\n"
      ]
    },
    {
      "cell_type": "code",
      "execution_count": 3,
      "metadata": {},
      "outputs": [],
      "source": [
        "def nerdy_run(path,k):\n",
        "  if type(path[0]) == int:\n",
        "    arr = np.zeros(k, dtype = int)\n",
        "  else:\n",
        "    arr = np.zeros(k, dtype = float)\n",
        "  for i in range(len(path)):\n",
        "    if path[i] in arr:\n",
        "      return path[i]\n",
        "    else:\n",
        "      arr[i%k] = path[i]\n",
        "  return None"
      ]
    },
    {
      "cell_type": "code",
      "execution_count": 4,
      "metadata": {
        "id": "eHa5uJahWA3o"
      },
      "outputs": [
        {
          "name": "stdout",
          "output_type": "stream",
          "text": [
            "Accepted\n",
            "Duplicate value within range 3 is: 9\n",
            "===================================\n",
            "Accepted\n",
            "Duplicate value within range 4 is: None\n",
            "===================================\n",
            "Accepted\n",
            "Duplicate value within range 7 is: 0.21\n"
          ]
        }
      ],
      "source": [
        "def main():\n",
        "\n",
        "  path = [6,7,8,9,5,9]\n",
        "  k = 3\n",
        "  result = nerdy_run(path,k)\n",
        "  unittest.output_test(result, 9)\n",
        "  print(f'Duplicate value within range {k} is: {result}') #Duplicate value within range 3 is: 9\n",
        "\n",
        "  print('===================================')\n",
        "  path = [6,7,8,9,5,6]\n",
        "  k = 4\n",
        "  result = nerdy_run(path,k)\n",
        "  unittest.output_test(result, None)\n",
        "  print(f'Duplicate value within range {k} is: {result}') #Duplicate value within range 4 is: None\n",
        "\n",
        "  print('===================================')\n",
        "  path = [0.21,1.21,4.67,0.21,0.45,1.9]\n",
        "  k = 7\n",
        "  result = nerdy_run(path,k)\n",
        "  unittest.output_test(result, 0.21)\n",
        "  print(f'Duplicate value within range {k} is: {result}') #Duplicate value within range 7 is: 0.21\n",
        "\n",
        "\n",
        "if __name__ == \"__main__\":\n",
        "  main()"
      ]
    },
    {
      "cell_type": "markdown",
      "metadata": {
        "id": "B92R0bs3X_kI"
      },
      "source": [
        "#TASK 2\n",
        "Complete the following methods:\n",
        "\n",
        ">  __hash_function()\n",
        "\n",
        "> search_hashtable()\n",
        "\n",
        "\n",
        "\n"
      ]
    },
    {
      "cell_type": "code",
      "execution_count": 5,
      "metadata": {
        "id": "1aobPPrAVXCB"
      },
      "outputs": [],
      "source": [
        "class Hashtable:\n",
        "  def __init__(self, size):\n",
        "    self.ht = [None]*size\n",
        "\n",
        "  def insert(self, s):\n",
        "    if self.search_hashtable(s) == 'Found':\n",
        "      print(s,'Already Inserted. Cannot reinsert.')\n",
        "      print('===============================')\n",
        "      return\n",
        "    key = self.__hash_function(s)\n",
        "    node = Node(s)\n",
        "    if self.ht[key] == None:\n",
        "      self.ht[key] = node\n",
        "    else:\n",
        "      node.next = self.ht[key]\n",
        "      self.ht[key] = node\n",
        "\n",
        "  def create_from_array(self, arr):\n",
        "    for i in arr:\n",
        "      self.insert(i)\n",
        "\n",
        "  def print_hashtable(self):\n",
        "    idx = 0\n",
        "    for i in self.ht:\n",
        "      print(idx, ':', end = ' ')\n",
        "      print_linked_list(i)\n",
        "      idx += 1\n",
        "\n",
        "\n",
        "  def __hash_function(self, s):\n",
        "    r = len(s)\n",
        "    if r%2 == 1:\n",
        "      s += 'N'\n",
        "    sum = 0\n",
        "    for i in range(0,r,2):\n",
        "      sum += int(str(ord(s[i])) + str(ord(s[i+1])))\n",
        "    return sum%(len(self.ht))\n",
        "\n",
        "\n",
        "  def search_hashtable(self, s):\n",
        "    for i in self.ht:\n",
        "      while i != None:\n",
        "        if i.elem == s:\n",
        "          return \"Found\"\n",
        "        i = i.next\n",
        "    return \"Not Found\"\n"
      ]
    },
    {
      "cell_type": "code",
      "execution_count": 6,
      "metadata": {
        "colab": {
          "base_uri": "https://localhost:8080/"
        },
        "id": "dpDpMZSgV_XU",
        "outputId": "4e443553-6f2b-4e7b-99f9-8b19e74e4c4e"
      },
      "outputs": [
        {
          "name": "stdout",
          "output_type": "stream",
          "text": [
            "0 : None\n",
            "\n",
            "1 : Bo-> None\n",
            "\n",
            "2 : Emz-> Colt-> None\n",
            "\n",
            "3 : Shelly-> None\n",
            "\n",
            "4 : Doug-> Cordelius-> None\n",
            "\n",
            "======================\n",
            "Accepted\n",
            "Doug Found\n",
            "======================\n",
            "Doug Already Inserted. Cannot reinsert.\n",
            "===============================\n",
            "0 : None\n",
            "\n",
            "1 : Bo-> None\n",
            "\n",
            "2 : Emz-> Colt-> None\n",
            "\n",
            "3 : Shelly-> None\n",
            "\n",
            "4 : Doug-> Cordelius-> None\n",
            "\n",
            "======================\n",
            "Accepted\n",
            "Edgar Not Found\n",
            "======================\n",
            "0 : Edgar-> None\n",
            "\n",
            "1 : Bo-> None\n",
            "\n",
            "2 : Emz-> Colt-> None\n",
            "\n",
            "3 : Shelly-> None\n",
            "\n",
            "4 : Doug-> Cordelius-> None\n",
            "\n",
            "======================\n",
            "Accepted\n",
            "Edgar Found\n"
          ]
        }
      ],
      "source": [
        "arr = ['Colt', 'Cordelius', 'Shelly', 'Doug', 'Emz', 'Bo']\n",
        "ht = Hashtable(5)\n",
        "ht.create_from_array(arr)\n",
        "ht.print_hashtable()\n",
        "'''\n",
        "0 : None\n",
        "\n",
        "1 : Bo-> None\n",
        "\n",
        "2 : Emz-> Colt-> None\n",
        "\n",
        "3 : Shelly-> None\n",
        "\n",
        "4 : Doug-> Cordelius-> None\n",
        "\n",
        "'''\n",
        "\n",
        "print('======================')\n",
        "result = ht.search_hashtable('Doug')\n",
        "unittest.output_test(result, 'Found')\n",
        "print(f'Doug {result}') #This should print 'Doug Found'\n",
        "\n",
        "print('======================')\n",
        "ht.insert('Doug') #This will print 'Doug Already Inserted. Cannot reinsert.'\n",
        "ht.print_hashtable()\n",
        "'''\n",
        "0 : None\n",
        "\n",
        "1 : Bo-> None\n",
        "\n",
        "2 : Emz-> Colt-> None\n",
        "\n",
        "3 : Shelly-> None\n",
        "\n",
        "4 : Doug-> Cordelius-> None\n",
        "\n",
        "'''\n",
        "\n",
        "print('======================')\n",
        "result = ht.search_hashtable('Edgar')\n",
        "unittest.output_test(result, 'Not Found')\n",
        "print(f'Edgar {result}') #This should print 'Edgar Not Found'\n",
        "\n",
        "print('======================')\n",
        "ht.insert('Edgar')\n",
        "ht.print_hashtable()\n",
        "'''\n",
        "0 : Edgar-> None\n",
        "\n",
        "1 : Bo-> None\n",
        "\n",
        "2 : Emz-> Colt-> None\n",
        "\n",
        "3 : Shelly-> None\n",
        "\n",
        "4 : Doug-> Cordelius-> None\n",
        "\n",
        "'''\n",
        "\n",
        "print('======================')\n",
        "result = ht.search_hashtable('Edgar')\n",
        "unittest.output_test(result, 'Found')\n",
        "print(f'Edgar {result}') #This should print 'Edgar Found'"
      ]
    },
    {
      "cell_type": "markdown",
      "metadata": {
        "id": "DzykBxGicdBw"
      },
      "source": [
        "#TASK 3\n",
        "Complete the following methods:\n",
        "\n",
        "\n",
        "\n",
        "> create_layered_hashtable()\n",
        "\n",
        "> search_element()"
      ]
    },
    {
      "cell_type": "code",
      "execution_count": 7,
      "metadata": {
        "id": "MkJtkO-ydCSw"
      },
      "outputs": [],
      "source": [
        "class Layered_Hashtable:\n",
        "  def __init__(self, express_array_size):\n",
        "    self.express_array = [None] * express_array_size\n",
        "\n",
        "  def print_express_lane(self):\n",
        "    for i in self.express_array:\n",
        "      print(i.elem, end = ' '*10)\n",
        "    print()\n",
        "\n",
        "  def print_layered_hashtable(self):\n",
        "    print('Express Lane is:')\n",
        "    self.print_express_lane()\n",
        "\n",
        "    for i in range (len(self.express_array)-1):\n",
        "      node = self.express_array[i]\n",
        "      next_node = self.express_array[i+1]\n",
        "      print(f'Normal Lane Nodes between Express Lane Node {node.elem} and Express Lane Node {next_node.elem} are: ')\n",
        "      while node != next_node:\n",
        "        print(node.elem, end = '->')\n",
        "        node = node.next\n",
        "      print()\n",
        "\n",
        "    print(f'Normal Lane Nodes ending in the Express Lane Node: {node.elem}')\n",
        "\n",
        "\n",
        "  def create_layered_hashtable(self, linked_list_head):\n",
        "    l = len(self.express_array)\n",
        "    interval = int((count(linked_list_head)/l)+1)\n",
        "    i = interval\n",
        "    idx = 0\n",
        "    while linked_list_head != None:\n",
        "      if i==interval:\n",
        "        self.express_array[idx]=linked_list_head\n",
        "        i = 0\n",
        "        idx += 1\n",
        "      i += 1\n",
        "      linked_list_head = linked_list_head.next\n",
        "\n",
        "\n",
        "  def search_element(self,k):\n",
        "    for i in range(len(self.express_array)-1):\n",
        "      if (self.express_array[i].elem == k) or (self.express_array[i+1].elem == k):\n",
        "        return \"Found\"\n",
        "      else:\n",
        "        if (self.express_array[i].elem<= k <self.express_array[i+1].elem):\n",
        "          while self.express_array[i] != self.express_array[i+1]:\n",
        "            if self.express_array[i].elem == k:\n",
        "              return \"Found\"\n",
        "            self.express_array[i] = self.express_array[i].next\n",
        "    return \"Not Found\""
      ]
    },
    {
      "cell_type": "code",
      "execution_count": 8,
      "metadata": {
        "colab": {
          "base_uri": "https://localhost:8080/"
        },
        "id": "9lxnCzZ6fymw",
        "outputId": "c62fae69-7ea9-4038-dcdc-f00e4a53d9cd"
      },
      "outputs": [
        {
          "name": "stdout",
          "output_type": "stream",
          "text": [
            "Express Lane is:\n",
            "4          18          62          84          \n",
            "Normal Lane Nodes between Express Lane Node 4 and Express Lane Node 18 are: \n",
            "4->6->9->\n",
            "Normal Lane Nodes between Express Lane Node 18 and Express Lane Node 62 are: \n",
            "18->25->37->\n",
            "Normal Lane Nodes between Express Lane Node 62 and Express Lane Node 84 are: \n",
            "62->67->79->\n",
            "Normal Lane Nodes ending in the Express Lane Node: 84\n",
            "==========1===========\n",
            "Accepted\n",
            "67 Found\n",
            "==========2===========\n",
            "Accepted\n",
            "84 Found\n",
            "==========3===========\n",
            "Accepted\n",
            "1 Not Found\n",
            "==========4===========\n",
            "Accepted\n",
            "92 Not Found\n",
            "==========5===========\n",
            "Accepted\n",
            "41 Not Found\n"
          ]
        }
      ],
      "source": [
        "arr = [4,6,9,18,25,37,62,67,79,84]\n",
        "head = create_linked_list(arr)\n",
        "express_array_size = 4\n",
        "\n",
        "layered_ht = Layered_Hashtable(express_array_size)\n",
        "layered_ht.create_layered_hashtable(head)\n",
        "layered_ht.print_layered_hashtable()\n",
        "\n",
        "print('==========1===========')\n",
        "result = layered_ht.search_element(67)\n",
        "unittest.output_test(result, 'Found')\n",
        "print(f'67 {result}') #67 Found\n",
        "\n",
        "print('==========2===========')\n",
        "result = layered_ht.search_element(84)\n",
        "unittest.output_test(result, 'Found')\n",
        "print(f'84 {result}') #84 Found\n",
        "\n",
        "print('==========3===========')\n",
        "result = layered_ht.search_element(1)\n",
        "unittest.output_test(result, 'Not Found')\n",
        "print(f'1 {result}') #1 Not Found\n",
        "\n",
        "print('==========4===========')\n",
        "result = layered_ht.search_element(92)\n",
        "unittest.output_test(result, 'Not Found')\n",
        "print(f'92 {result}') #92 Not Found\n",
        "\n",
        "print('==========5===========')\n",
        "result = layered_ht.search_element(41)\n",
        "unittest.output_test(result, 'Not Found')\n",
        "print(f'41 {result}') #41 Not Found"
      ]
    }
  ],
  "metadata": {
    "colab": {
      "provenance": []
    },
    "kernelspec": {
      "display_name": "Python 3",
      "name": "python3"
    },
    "language_info": {
      "codemirror_mode": {
        "name": "ipython",
        "version": 3
      },
      "file_extension": ".py",
      "mimetype": "text/x-python",
      "name": "python",
      "nbconvert_exporter": "python",
      "pygments_lexer": "ipython3",
      "version": "3.11.3"
    }
  },
  "nbformat": 4,
  "nbformat_minor": 0
}
