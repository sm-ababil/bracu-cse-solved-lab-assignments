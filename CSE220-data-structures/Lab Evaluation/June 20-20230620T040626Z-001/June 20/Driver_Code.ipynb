{
  "cells": [
    {
      "cell_type": "code",
      "execution_count": 1,
      "metadata": {
        "id": "WNVJYUmWUKfm"
      },
      "outputs": [],
      "source": [
        "import numpy as np"
      ]
    },
    {
      "cell_type": "code",
      "execution_count": 12,
      "metadata": {
        "id": "1l8iQU0OTo7D"
      },
      "outputs": [],
      "source": [
        "def create_fence(X, padding):\n",
        "    x_row, x_col = X.shape\n",
        "    fencedArr = np.zeros((x_row+(2*padding), x_col+(2*padding)), dtype = int)\n",
        "    fr, fc = fencedArr.shape\n",
        "    for i in range(fr):\n",
        "        for j in range(fc):\n",
        "            if (0<= i <= padding-1 or 2*padding+x_row<=i<fr-1):\n",
        "                fencedArr[i][j] = 8\n",
        "            else:\n",
        "                if padding<=j<=fc-padding:\n",
        "                    fencedArr[i][j] = X[i-padding-1][j-padding-1]\n",
        "                else:\n",
        "                    fencedArr[i][j] = 8\n",
        "    return fencedArr\n",
        "\n"
      ]
    },
    {
      "cell_type": "code",
      "execution_count": 11,
      "metadata": {
        "colab": {
          "base_uri": "https://localhost:8080/"
        },
        "id": "MNN1Csu5TxAu",
        "outputId": "19afeff6-060a-407b-e1ab-90d53ade201a"
      },
      "outputs": [
        {
          "name": "stdout",
          "output_type": "stream",
          "text": [
            "[[8 8 8 8 8]\n",
            " [8 4 2 1 4]\n",
            " [8 4 2 3 4]\n",
            " [8 6 3 4 6]\n",
            " [8 8 8 8 8]]\n"
          ]
        }
      ],
      "source": [
        "padding = 1\n",
        "X = np.array([[2,3,4], [3,4,6], [2,1,4]])\n",
        "print(create_fence(X, padding))"
      ]
    },
    {
      "cell_type": "code",
      "execution_count": 9,
      "metadata": {
        "colab": {
          "base_uri": "https://localhost:8080/"
        },
        "id": "Rkp-Sk7hUDuO",
        "outputId": "a1367e13-262d-4bdb-cb04-870a02b6840a"
      },
      "outputs": [
        {
          "name": "stdout",
          "output_type": "stream",
          "text": [
            "[[8 8 8 8 8 8 8]\n",
            " [8 8 8 8 8 8 8]\n",
            " [8 8 4 2 1 4 8]\n",
            " [8 8 4 2 3 4 8]\n",
            " [8 8 8 8 8 8 8]\n",
            " [8 8 8 8 8 8 8]\n",
            " [8 8 8 8 8 8 8]]\n"
          ]
        }
      ],
      "source": [
        "padding = 2\n",
        "X = np.array([[2,3,4], [3,4,6], [2,1,4]])\n",
        "print(create_fence(X, padding))"
      ]
    }
  ],
  "metadata": {
    "colab": {
      "provenance": []
    },
    "kernelspec": {
      "display_name": "Python 3",
      "name": "python3"
    },
    "language_info": {
      "codemirror_mode": {
        "name": "ipython",
        "version": 3
      },
      "file_extension": ".py",
      "mimetype": "text/x-python",
      "name": "python",
      "nbconvert_exporter": "python",
      "pygments_lexer": "ipython3",
      "version": "3.11.3"
    }
  },
  "nbformat": 4,
  "nbformat_minor": 0
}
