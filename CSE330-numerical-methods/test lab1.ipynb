{
 "cells": [
  {
   "cell_type": "code",
   "execution_count": 2,
   "metadata": {},
   "outputs": [],
   "source": [
    "import numpy as np"
   ]
  },
  {
   "cell_type": "code",
   "execution_count": 3,
   "metadata": {},
   "outputs": [
    {
     "name": "stdout",
     "output_type": "stream",
     "text": [
      "[ 4  7 34]\n",
      "<class 'numpy.ndarray'>\n",
      "4\n",
      "(4,)\n"
     ]
    }
   ],
   "source": [
    "#delete\n",
    "arr = np.array([4,6,7,34])\n",
    "arr2= np.delete(arr, 1)\n",
    "print(arr2)\n",
    "print(type(arr))\n",
    "print(len(arr))\n",
    "print(arr.shape)"
   ]
  },
  {
   "cell_type": "code",
   "execution_count": 4,
   "metadata": {},
   "outputs": [],
   "source": [
    "arr3=np.append(arr, [50,23,454])"
   ]
  },
  {
   "cell_type": "code",
   "execution_count": 5,
   "metadata": {},
   "outputs": [
    {
     "name": "stdout",
     "output_type": "stream",
     "text": [
      "[  4   6   7  23  34  50 454]\n",
      "[454  50  34  23   7   6   4]\n"
     ]
    }
   ],
   "source": [
    "#sorting\n",
    "\n",
    "sorted_arr = np.sort(arr3)\n",
    "print(sorted_arr)\n",
    "print(sorted_arr[::-1])"
   ]
  },
  {
   "cell_type": "code",
   "execution_count": 6,
   "metadata": {},
   "outputs": [
    {
     "name": "stdout",
     "output_type": "stream",
     "text": [
      "[ 3  4 46  4]\n"
     ]
    }
   ],
   "source": [
    "import numpy as np\n",
    "\n",
    "lis = np.array([2,3,45,3])\n",
    "print(lis+1)"
   ]
  },
  {
   "cell_type": "code",
   "execution_count": 7,
   "metadata": {},
   "outputs": [
    {
     "name": "stdout",
     "output_type": "stream",
     "text": [
      "count\n"
     ]
    }
   ],
   "source": [
    "class Polynomial:\n",
    "    def __init__(self, num):\n",
    "        self.num = num\n",
    "\n",
    "    def __call__(self, x_arr):\n",
    "        return x_arr\n",
    "\n",
    "    def call(self, x_arr):\n",
    "        return \"count\"\n",
    "\n",
    "\n",
    "p = Polynomial(5)\n",
    "print(p.call([56,5,6,7]))"
   ]
  },
  {
   "cell_type": "code",
   "execution_count": 8,
   "metadata": {},
   "outputs": [
    {
     "name": "stdout",
     "output_type": "stream",
     "text": [
      "[ 16 272 360]\n"
     ]
    }
   ],
   "source": [
    "import numpy as np\n",
    "\n",
    "arr1 = np.array([2,34,45])\n",
    "arr2 = 0\n",
    "\n",
    "for i in range(4):\n",
    "    arr2+=2*arr1\n",
    "print(arr2)"
   ]
  },
  {
   "cell_type": "code",
   "execution_count": 9,
   "metadata": {},
   "outputs": [
    {
     "name": "stdout",
     "output_type": "stream",
     "text": [
      "The value is -0.860000000000019\n"
     ]
    }
   ],
   "source": [
    "#Write your code here\n",
    "\n",
    "#using Polynomial Class and get_poly() method\n",
    "\n",
    "#Part 1\n",
    "\n",
    "class Polynomial:\n",
    "    def __init__(self, coeff):\n",
    "        self.coeff = coeff\n",
    "        self.degree = len(coeff)-1\n",
    "\n",
    "    def __call__(self, x_arr):\n",
    "        p_x_arr= 0\n",
    "        for i in range(self.degree+1):\n",
    "            p_x_arr+=(self.coeff[i]*x_arr**i)\n",
    "        \n",
    "        return p_x_arr\n",
    "\n",
    "   \n",
    "#part 2\n",
    "\n",
    "def get_poly(data_x,data_y):\n",
    "    node1 = len(data_x)\n",
    "    x_matrix = np.zeros((node1,node1))\n",
    "\n",
    "    for i in range(node1):\n",
    "        for j in range(node1):\n",
    "            x_matrix[i,j] = data_x[i]**j\n",
    "    \n",
    "    xmat_inv = np.linalg.pinv(x_matrix)\n",
    "    coeff = np.dot(xmat_inv, data_y)\n",
    "    eq = Polynomial(coeff)\n",
    "    return eq\n",
    "\n",
    "\n",
    "#driver code\n",
    "\n",
    "data_x = np.array([-0.5, 0, 0.5])\n",
    "data_y = np.array([1.87, 2.20, 2.44])\n",
    "poly = get_poly(data_x, data_y)\n",
    "x_arr = np.array([6])\n",
    "solution = poly(x_arr)\n",
    "print(\"The value is\",solution[0])\n",
    "    \n",
    "\n",
    "        \n"
   ]
  },
  {
   "cell_type": "code",
   "execution_count": 16,
   "metadata": {},
   "outputs": [
    {
     "name": "stdout",
     "output_type": "stream",
     "text": [
      "[-6.]\n",
      "The value is -6.0 by using Lagrange Interpolation\n",
      "The actual interpolation error is 0.0\n"
     ]
    }
   ],
   "source": [
    "class Lagrange_Polynomial:\n",
    "    def __init__(self, data_x, data_y):\n",
    "        self.datax= data_x\n",
    "        self.datay= data_y\n",
    "        self.degree = len(data_x)-1\n",
    "\n",
    "\n",
    "    def l(self, k, x):\n",
    "\n",
    "        l_x = 1.0\n",
    "        for i in range(self.degree+1):\n",
    "            if i != k:\n",
    "                self.x_i = self.datax[i]\n",
    "                self.x_k = self.datax[k]\n",
    "                l_x*=(x-self.x_i)/(self.x_k-self.x_i)\n",
    "\n",
    "        return l_x\n",
    "    \n",
    "\n",
    "    def __call__(self, x_arr):\n",
    "\n",
    "        p_x_arr = np.zeros(len(x_arr))\n",
    "        for i,j in enumerate(x_arr):\n",
    "            for k in range(self.degree+1):\n",
    "                p_x_arr[i]+=self.datay[k]*self.l(k,j)\n",
    "\n",
    "        return p_x_arr\n",
    "\n",
    "\n",
    "# Driver Code\n",
    "\n",
    "data_x = np.array([2, 4, 6])\n",
    "data_y = np.array([8,16,24])\n",
    "p = Lagrange_Polynomial(data_x,data_y)\n",
    "x_arr = np.array([-1.5])\n",
    "p_x = p(x_arr)\n",
    "print(f\"The value is {p_x[0]} by using Lagrange Interpolation\")\n",
    "f_x = 4*x_arr[0]\n",
    "error = abs(f_x - p_x[0])\n",
    "print(\"The actual interpolation error is\",error)\n",
    "\n"
   ]
  }
 ],
 "metadata": {
  "kernelspec": {
   "display_name": "Python 3",
   "language": "python",
   "name": "python3"
  },
  "language_info": {
   "codemirror_mode": {
    "name": "ipython",
    "version": 3
   },
   "file_extension": ".py",
   "mimetype": "text/x-python",
   "name": "python",
   "nbconvert_exporter": "python",
   "pygments_lexer": "ipython3",
   "version": "3.12.0"
  },
  "orig_nbformat": 4
 },
 "nbformat": 4,
 "nbformat_minor": 2
}
