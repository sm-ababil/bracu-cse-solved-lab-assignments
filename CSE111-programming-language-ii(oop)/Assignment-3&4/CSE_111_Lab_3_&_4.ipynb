{
  "cells": [
    {
      "cell_type": "code",
      "execution_count": 1,
      "metadata": {
        "colab": {
          "base_uri": "https://localhost:8080/"
        },
        "id": "A_DCfvdu1jkg",
        "outputId": "23a8c3f5-54c1-4f7a-ea19-2e079ac9ce67"
      },
      "outputs": [
        {
          "name": "stdout",
          "output_type": "stream",
          "text": [
            "Name: A\n",
            "Age: 55\n",
            "Weight: 63.0\n",
            "Height: 158.0\n",
            "BMI: 25.236340330075304\n",
            "====================\n",
            "Name: B\n",
            "Age: 53\n",
            "Weight: 61.0\n",
            "Height: 149.0\n",
            "BMI: 27.476239809017613\n"
          ]
        }
      ],
      "source": [
        "#Task 1\n",
        "\n",
        "class Patient:\n",
        "\n",
        "    def __init__(self, name, age, weight, height):\n",
        "        self.name = name\n",
        "        self.age = age\n",
        "        self.weight = weight\n",
        "        self.height = height\n",
        "        self.bmi = self.weight/(self.height/100)**2\n",
        "    \n",
        "    def printDetails(self):\n",
        "        print(\"Name:\", self.name)\n",
        "        print(\"Age:\", self.age)\n",
        "        print(\"Weight:\",self.weight)\n",
        "        print(\"Height:\",self.height)\n",
        "        print(\"BMI:\", self.bmi)\n",
        "\n",
        "p1 = Patient(\"A\", 55, 63.0, 158.0)\n",
        "p1.printDetails()\n",
        "print(\"====================\")\n",
        "p2 = Patient(\"B\", 53, 61.0, 149.0)\n",
        "p2.printDetails()\n"
      ]
    },
    {
      "cell_type": "code",
      "execution_count": 2,
      "metadata": {
        "colab": {
          "base_uri": "https://localhost:8080/"
        },
        "id": "_772_gwo3y8X",
        "outputId": "7745c4be-4ccf-4c6e-b768-d0fa4eca4650"
      },
      "outputs": [
        {
          "name": "stdout",
          "output_type": "stream",
          "text": [
            "Area: 125.0\n",
            "==========================\n",
            "Area: 100\n",
            "==========================\n",
            "Area: 225.0\n",
            "==========================\n",
            "Area: 450\n",
            "==========================\n",
            "Shape unknown\n"
          ]
        }
      ],
      "source": [
        "#Task 2\n",
        "\n",
        "class Shape:\n",
        "\n",
        "    def __init__(self, shape, value1, value2):\n",
        "        self.shape = shape\n",
        "        self.val1 = value1\n",
        "        self.val2 = value2\n",
        "\n",
        "    def area(self):\n",
        "        if self.shape == \"Triangle\":\n",
        "            print(\"Area:\",0.5*self.val1*self.val2)\n",
        "        elif self.shape == \"Square\" or self.shape == \"Rectangle\":\n",
        "            print(\"Area:\", self.val1*self.val2)\n",
        "        elif self.shape == \"Rhombus\":\n",
        "            print(\"Area:\",0.5*self.val1*self.val2)\n",
        "        else:\n",
        "            print(\"Shape unknown\")\n",
        "\n",
        "triangle = Shape(\"Triangle\",10,25)\n",
        "triangle.area()\n",
        "print(\"==========================\")\n",
        "square = Shape(\"Square\",10,10)\n",
        "square.area()\n",
        "print(\"==========================\")\n",
        "rhombus = Shape(\"Rhombus\",18,25)\n",
        "rhombus.area()\n",
        "print(\"==========================\")\n",
        "rectangle = Shape(\"Rectangle\",15,30)\n",
        "rectangle.area()\n",
        "print(\"==========================\")\n",
        "trapezium = Shape(\"Trapezium\",15,30)\n",
        "trapezium.area()"
      ]
    },
    {
      "cell_type": "code",
      "execution_count": 3,
      "metadata": {
        "colab": {
          "base_uri": "https://localhost:8080/"
        },
        "id": "nvbZFyYnEp5y",
        "outputId": "ef229ba0-fb1c-4f63-ef41-1abca4717530"
      },
      "outputs": [
        {
          "name": "stdout",
          "output_type": "stream",
          "text": [
            "Calculator is ready !\n",
            "==================\n",
            "Returned value: 30\n",
            "10 + 20 = 30\n",
            "==================\n",
            "Returned value: 20\n",
            "30 - 10 = 20\n",
            "==================\n",
            "Returned value: 100\n",
            "20 * 5 = 100\n",
            "==================\n",
            "Returned value: 6.25\n",
            "100 / 16 = 6.25\n"
          ]
        }
      ],
      "source": [
        "#Task 3\n",
        "\n",
        "class Calculator:\n",
        "\n",
        "    def __init__(self):\n",
        "        print(\"Calculator is ready !\")\n",
        "    def calculate(self, val1, val2, operator):\n",
        "        self.val1 = val1\n",
        "        self.val2 = val2\n",
        "        self.operator = operator\n",
        "        if self.operator == \"+\":\n",
        "            self.calc = self.val1+self.val2\n",
        "            return self.calc\n",
        "        elif self.operator == \"-\":\n",
        "            self.calc = self.val1 - self.val2\n",
        "            return self.calc\n",
        "        elif self.operator == \"*\":\n",
        "            self.calc = self.val1*self.val2\n",
        "            return self.calc\n",
        "        elif self.operator == \"/\":\n",
        "            self.calc = self.val1/self.val2\n",
        "            return self.calc\n",
        "\n",
        "    def showCalculation(self):\n",
        "        if self.operator == \"+\":\n",
        "            print(f\"{self.val1} + {self.val2} = {self.calc}\")\n",
        "        elif self.operator == \"-\":\n",
        "            print(f\"{self.val1} - {self.val2} = {self.calc}\")\n",
        "        elif self.operator == \"*\":\n",
        "            print(f\"{self.val1} * {self.val2} = {self.calc}\")\n",
        "        elif self.operator == \"/\":\n",
        "            print(f\"{self.val1} / {self.val2} = {self.calc}\")\n",
        "\n",
        "c1 = Calculator()\n",
        "print(\"==================\")\n",
        "val = c1.calculate(10, 20, '+')\n",
        "print(\"Returned value:\", val)\n",
        "c1.showCalculation()\n",
        "print(\"==================\")\n",
        "val = c1.calculate(val, 10, '-')\n",
        "print(\"Returned value:\", val)\n",
        "c1.showCalculation()\n",
        "print(\"==================\")\n",
        "val = c1.calculate(val, 5, '*')\n",
        "print(\"Returned value:\", val)\n",
        "c1.showCalculation()\n",
        "print(\"==================\")\n",
        "val = c1.calculate(val, 16, '/')\n",
        "print(\"Returned value:\", val)\n",
        "c1.showCalculation()\n",
        "\n"
      ]
    },
    {
      "cell_type": "code",
      "execution_count": 4,
      "metadata": {
        "colab": {
          "base_uri": "https://localhost:8080/"
        },
        "id": "IPgXEAzrlXTT",
        "outputId": "a0e46959-3785-4a84-f618-4cc46ad78d85"
      },
      "outputs": [
        {
          "name": "stdout",
          "output_type": "stream",
          "text": [
            "Horray! A new programmer is born\n",
            "Name: Ethen Hunt\n",
            "Language: Java\n",
            "Experience: 10 \n",
            "--------------------------\n",
            "Horray! A new programmer is born\n",
            "Name: James Bond\n",
            "Language: C++\n",
            "Experience: 7 \n",
            "--------------------------\n",
            "Horray! A new programmer is born\n",
            "Name: Jon Snow\n",
            "Language: Python\n",
            "Experience: 4 \n",
            "Updating experience of Jon Snow\n",
            "Name: Jon Snow\n",
            "Language: Python\n",
            "Experience: 9 years\n"
          ]
        }
      ],
      "source": [
        "\n",
        "#Task 4\n",
        "\n",
        "class Programmer:\n",
        "\n",
        "    def __init__(self, name, lang, exp):\n",
        "        self.name = name\n",
        "        self.lang = lang\n",
        "        self.exp = exp\n",
        "        print(\"Horray! A new programmer is born\")\n",
        "    \n",
        "    def printDetails(self):\n",
        "        print(\"Name:\", self.name)\n",
        "        print(\"Language:\", self.lang)\n",
        "        print(\"Experience:\",self.exp,\"\")\n",
        "    \n",
        "    def addExp(self, updt_exp):\n",
        "        print(f\"Updating experience of {self.name}\")\n",
        "        print(\"Name:\", self.name)\n",
        "        print(\"Language:\", self.lang)\n",
        "        print(\"Experience:\",self.exp + updt_exp,\"years\")\n",
        "\n",
        "p1 = Programmer(\"Ethen Hunt\", \"Java\", 10)\n",
        "p1.printDetails()\n",
        "print('--------------------------')\n",
        "p2 = Programmer(\"James Bond\", \"C++\", 7)\n",
        "p2.printDetails()\n",
        "print('--------------------------')\n",
        "p3 = Programmer(\"Jon Snow\", \"Python\", 4)\n",
        "p3.printDetails()\n",
        "p3.addExp(5)\n",
        "# p3.printDetails()\n"
      ]
    },
    {
      "cell_type": "code",
      "execution_count": 5,
      "metadata": {
        "colab": {
          "base_uri": "https://localhost:8080/"
        },
        "id": "Sn1z1nzzsSX_",
        "outputId": "b8120124-bd94-4238-f55c-ecf4d22ab376"
      },
      "outputs": [
        {
          "name": "stdout",
          "output_type": "stream",
          "text": [
            "Shakib, welcome to UberEats!\n",
            "=========================\n",
            "=========================\n",
            "User details: Name: Shakib, Phone: 01719658xxx, Address: Mohakhali \n",
            "Orders: {'Burger': 220, 'Coca Cola': 50}\n",
            "Total Paid Amount: 270\n",
            "=========================\n",
            "Siam, welcome to UberEats!\n",
            "=========================\n",
            "=========================\n",
            "User details: Name: Siam, Phone: 01719659xxx, Address: Uttara \n",
            "Orders: {'Pineapple': 80, 'Dairy Milk': 70}\n",
            "Total Paid Amount: 150\n"
          ]
        }
      ],
      "source": [
        "#Task 5\n",
        "\n",
        "class UberEats:\n",
        "\n",
        "    def __init__(self, name, phone, place):\n",
        "        self.name = name\n",
        "        self.phone = phone\n",
        "        self.place = place\n",
        "        print(f\"{self.name}, welcome to UberEats!\")\n",
        "    def add_items(self, item1, item2, price1, price2):\n",
        "        self.dict1 = {item1: price1, item2: price2}\n",
        "        self.total = price1 + price2\n",
        "    def print_order_detail(self):\n",
        "        details = f\"User details: Name: {self.name}, Phone: {self.phone}, Address: {self.place} \\nOrders: {self.dict1}\\nTotal Paid Amount: {self.total}\"\n",
        "        return details\n",
        "        \n",
        "order1 = UberEats(\"Shakib\", \"01719658xxx\", \"Mohakhali\")\n",
        "print(\"=========================\")\n",
        "order1.add_items(\"Burger\", \"Coca Cola\", 220, 50)\n",
        "print(\"=========================\")\n",
        "print(order1.print_order_detail())\n",
        "print(\"=========================\")\n",
        "order2 = UberEats (\"Siam\", \"01719659xxx\", \"Uttara\")\n",
        "print(\"=========================\")\n",
        "order2.add_items(\"Pineapple\", \"Dairy Milk\", 80, 70)\n",
        "print(\"=========================\")\n",
        "print(order2.print_order_detail())\n"
      ]
    },
    {
      "cell_type": "code",
      "execution_count": 7,
      "metadata": {
        "colab": {
          "base_uri": "https://localhost:8080/",
          "height": 235
        },
        "id": "gv-mGfvHNPEG",
        "outputId": "c1b2587e-cc16-4a0e-8cf8-135c8a592469"
      },
      "outputs": [
        {
          "name": "stdout",
          "output_type": "stream",
          "text": [
            "Hello!\n",
            "Sam, you purchased 3 items(s):\n",
            "chips\n",
            "chocolate\n",
            "orange juice\n",
            "-----------------------------\n",
            "Hello David!\n",
            "David, you purchased 1 items(s):\n",
            "orange juice\n"
          ]
        }
      ],
      "source": [
        "#Task 6\n",
        "\n",
        "class Customer:\n",
        "\n",
        "    def __init__(self, name, number=None, place=None):\n",
        "        self.name = name\n",
        "        self.number = number\n",
        "        self.place = place\n",
        "        \n",
        "\n",
        "    def greet(self, *name):\n",
        "        if len(name) == 0:\n",
        "            print(\"Hello!\")\n",
        "        else:\n",
        "            print(f\"Hello {self.name}!\")\n",
        "    \n",
        "    def purchase(self, *items):\n",
        "        print(f\"{self.name}, you purchased {len(items)} items(s):\")\n",
        "        for i in items:\n",
        "            print(i)\n",
        "\n",
        "customer_1 = Customer(\"Sam\")\n",
        "customer_1.greet()\n",
        "customer_1.purchase(\"chips\", \"chocolate\", \"orange juice\")\n",
        "print(\"-----------------------------\")\n",
        "customer_2 = Customer(\"David\")\n",
        "customer_2.greet(\"David\")\n",
        "customer_2.purchase(\"orange juice\")\n"
      ]
    },
    {
      "cell_type": "code",
      "execution_count": null,
      "metadata": {
        "id": "zFtMzHK-mCXx"
      },
      "outputs": [],
      "source": [
        "#Task 7\n",
        "\n",
        "class Cat:\n",
        "\n",
        "    def __init__(self)"
      ]
    },
    {
      "cell_type": "code",
      "execution_count": null,
      "metadata": {
        "colab": {
          "base_uri": "https://localhost:8080/"
        },
        "id": "f8izUwlENplC",
        "outputId": "fc3be85f-9f4e-4d74-b017-ee64a9271808"
      },
      "outputs": [
        {
          "name": "stdout",
          "output_type": "stream",
          "text": [
            "Name: Harry Potter\n",
            "ID: 123\n",
            "Department: CSE\n",
            "Daily Effort: 3 hour(s)\n",
            "Suggestion: Keep up the good work!\n",
            "========================\n",
            "Name: John Wick\n",
            "ID: 456\n",
            "Department: BBA\n",
            "Daily Effort: 2 hour(s)\n",
            "Suggestion: Should give more effort!\n",
            "========================\n",
            "Name: Naruto Uzumaki\n",
            "ID: 777\n",
            "Department: Ninja\n",
            "Daily Effort: 6 hour(s)\n",
            "Suggestion: Excellent! Now motivate others.\n"
          ]
        }
      ],
      "source": [
        "#Task 8\n",
        "\n",
        "class Student:\n",
        "\n",
        "    def __init__(self, name, id, dept = \"CSE\"):\n",
        "        self.name = name\n",
        "        self.id = id\n",
        "        self.dept = dept\n",
        "        print(\"Name:\",self.name)\n",
        "        print(\"ID:\",self.id)\n",
        "        print(\"Department:\",self.dept)\n",
        "\n",
        "    def dailyEffort(self, hours):\n",
        "        self.hours = hours\n",
        "        print(f\"Daily Effort: {self.hours} hour(s)\")\n",
        "\n",
        "    def printDetails(self):\n",
        "        if self.hours<=2:\n",
        "            print(\"Suggestion: Should give more effort!\")\n",
        "        elif self.hours<=4:\n",
        "            print(\"Suggestion: Keep up the good work!\")\n",
        "        else:\n",
        "            print(\"Suggestion: Excellent! Now motivate others.\")\n",
        "\n",
        "harry = Student('Harry Potter', 123)\n",
        "harry.dailyEffort(3)\n",
        "harry.printDetails()\t\n",
        "print('========================')\n",
        "john = Student(\"John Wick\", 456, \"BBA\")\n",
        "john.dailyEffort(2)\n",
        "john.printDetails()\n",
        "print('========================')\n",
        "naruto = Student(\"Naruto Uzumaki\", 777, \"Ninja\")\n",
        "naruto.dailyEffort(6)\n",
        "naruto.printDetails()"
      ]
    },
    {
      "cell_type": "code",
      "execution_count": null,
      "metadata": {
        "colab": {
          "base_uri": "https://localhost:8080/"
        },
        "id": "QTJp8A1tT2VJ",
        "outputId": "52d8369c-0e4a-4acc-8f2e-c5eca9c44a97"
      },
      "outputs": [
        {
          "name": "stdout",
          "output_type": "stream",
          "text": [
            "Author Name: Humayun Ahmed\n",
            "--------\n",
            "List of Books:\n",
            "Deyal\n",
            "Megher Opor Bari\n",
            "===================\n",
            "Default \n",
            "===================\n",
            "Author Name: Mario Puzo\n",
            "===================\n",
            "--------\n",
            "List of Books:\n",
            "The Godfather\n",
            "Omerta\n",
            "The Sicilian\n",
            "===================\n",
            "Author Name: Paolo Coelho\n",
            "--------\n",
            "List of Books:\n",
            "The Alchemist\n",
            "The Fifth Mountain\n"
          ]
        }
      ],
      "source": [
        "#Task 10\n",
        "\n",
        "class Author:\n",
        "\n",
        "    def __init__(self, name = None, *books):\n",
        "        self.name = name\n",
        "        self.books = list(books)\n",
        "        if self.name == None:\n",
        "            self.name = \"Default \\n===================\"\n",
        "        else:\n",
        "            print(\"Author Name:\", self.name)\n",
        "    \n",
        "    def changeName(self, cng_name):\n",
        "        self.name = cng_name\n",
        "        print(\"Author Name:\", self.name)\n",
        "\n",
        "    def addBooks(self, *more_books):\n",
        "        self.books += list(more_books)\n",
        "    \n",
        "    def printDetails(self):\n",
        "        print(\"--------\")\n",
        "        print(\"List of Books:\")\n",
        "        for i in self.books:\n",
        "            print(i)\n",
        "\n",
        "auth1 = Author('Humayun Ahmed')\n",
        "auth1.addBooks('Deyal', 'Megher Opor Bari')\n",
        "auth1.printDetails()\n",
        "print(\"===================\")\n",
        "auth2 = Author()\n",
        "print(auth2.name)\n",
        "auth2.changeName('Mario Puzo')\n",
        "auth2.addBooks('The Godfather', 'Omerta', 'The Sicilian')\n",
        "print(\"===================\")\n",
        "auth2.printDetails()\n",
        "print(\"===================\")\n",
        "auth3 = Author('Paolo Coelho', 'The Alchemist', 'The Fifth Mountain')\n",
        "auth3.printDetails()\n"
      ]
    },
    {
      "cell_type": "code",
      "execution_count": null,
      "metadata": {
        "id": "RoAA9wFMfMOv"
      },
      "outputs": [],
      "source": [
        "#Task 13\n",
        "\n",
        "class StudentDatabase:\n",
        "\n",
        "    def __init__(self, name, id):\n",
        "        self.name = name\n",
        "        self.id = id\n",
        "        self.dict1 = {}\n",
        "\n",
        "    def calculateGPA(self, course_list, session):\n",
        "        for item in course_list:\n",
        "            idx = item.find(\":\")\n",
        "            \n",
        "\n",
        "        self.dict1[session] = course_list\n",
        "\n"
      ]
    }
  ],
  "metadata": {
    "colab": {
      "provenance": []
    },
    "kernelspec": {
      "display_name": "Python 3",
      "name": "python3"
    },
    "language_info": {
      "codemirror_mode": {
        "name": "ipython",
        "version": 3
      },
      "file_extension": ".py",
      "mimetype": "text/x-python",
      "name": "python",
      "nbconvert_exporter": "python",
      "pygments_lexer": "ipython3",
      "version": "3.12.0"
    }
  },
  "nbformat": 4,
  "nbformat_minor": 0
}
