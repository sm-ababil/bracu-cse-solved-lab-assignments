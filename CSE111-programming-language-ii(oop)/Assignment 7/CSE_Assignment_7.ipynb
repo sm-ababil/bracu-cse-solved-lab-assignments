{
  "nbformat": 4,
  "nbformat_minor": 0,
  "metadata": {
    "colab": {
      "provenance": []
    },
    "kernelspec": {
      "name": "python3",
      "display_name": "Python 3"
    },
    "language_info": {
      "name": "python"
    }
  },
  "cells": [
    {
      "cell_type": "code",
      "source": [
        "#Task 1\n",
        "\n",
        "class Student:\n",
        "    def __init__(self, name='Just a student', dept='nothing'):\n",
        "        self.__name = name\n",
        "        self.__department = dept\n",
        "    def set_department(self, dept):\n",
        "        self.__department = dept\n",
        "    def get_name(self):\n",
        "        return self.__name\n",
        "    def set_name(self,name):\n",
        "        self.__name = name\n",
        "    def __str__(self):\n",
        "        return 'Name: '+self.__name+' Department: '+self.__department\n",
        "\n",
        "class BBA_Student(Student):\n",
        "    def __init__(self, name = \"default\", dept = \"BBA\"):\n",
        "        super().__init__(name, dept)\n",
        "        super().__str__()\n",
        "\n",
        "print(BBA_Student())\n",
        "print(BBA_Student('Humpty Dumpty'))\n",
        "print(BBA_Student('Little Bo Peep'))\n"
      ],
      "metadata": {
        "colab": {
          "base_uri": "https://localhost:8080/"
        },
        "id": "UnNRJC7KtlD0",
        "outputId": "578a9384-9b4e-4b61-ddbe-2255cb697afb"
      },
      "execution_count": null,
      "outputs": [
        {
          "output_type": "stream",
          "name": "stdout",
          "text": [
            "Name: default Department: BBA\n",
            "Name: Humpty Dumpty Department: BBA\n",
            "Name: Little Bo Peep Department: BBA\n"
          ]
        }
      ]
    },
    {
      "cell_type": "code",
      "source": [
        "#Task 2\n",
        "\n",
        "class Vehicle:\n",
        "    def __init__(self):\n",
        "        self.x = 0\n",
        "        self.y = 0\n",
        "    def moveUp(self):\n",
        "        self.y += 1\n",
        "    def moveDown(self):\n",
        "        self.y -= 1\n",
        "    def moveRight(self):\n",
        "        self.x += 1\n",
        "    def moveLeft(self):\n",
        "        self.x -= 1\n",
        "    def __str__(self):\n",
        "        return '('+str(self.x)+' , '+str(self.y)+')'\n",
        "\n",
        "class Vehicle2010(Vehicle):\n",
        "    def moveUpperRight(self):\n",
        "        super().moveUp()\n",
        "        super().moveRight()\n",
        "    def moveUpperLeft(self):\n",
        "        super().moveUp()\n",
        "        super().moveLeft()\n",
        "    def moveLowerRight(self):\n",
        "        super().moveDown()\n",
        "        super().moveRight()\n",
        "    def moveLowerLeft(self):\n",
        "        super().moveDown()\n",
        "        super().moveLeft()\n",
        "    def equals(self, other):\n",
        "        if (self.x == other.x and self.y == other.y):\n",
        "            return True\n",
        "        else:\n",
        "            return False\n",
        "\n",
        "\n",
        "\n",
        "print('Part 1')\n",
        "print('------')\n",
        "car = Vehicle()\n",
        "print(car)\n",
        "car.moveUp()\n",
        "print(car)\n",
        "car.moveLeft()\n",
        "print(car)\n",
        "car.moveDown()\n",
        "print(car)\n",
        "car.moveRight()\n",
        "print(car)\n",
        "print('------')\n",
        "print('Part 2')\n",
        "print('------')\n",
        "car1 = Vehicle2010()\n",
        "print(car1)\n",
        "car1.moveLowerLeft()\n",
        "print(car1)\n",
        "car2 = Vehicle2010()\n",
        "car2.moveLeft()\n",
        "print(car1.equals(car2))\n",
        "car2.moveDown()\n",
        "print(car1.equals(car2))"
      ],
      "metadata": {
        "id": "ThduJ6gKxR9i",
        "colab": {
          "base_uri": "https://localhost:8080/"
        },
        "outputId": "886ae6f7-beec-461f-94c3-e164dc4a1262"
      },
      "execution_count": null,
      "outputs": [
        {
          "output_type": "stream",
          "name": "stdout",
          "text": [
            "Part 1\n",
            "------\n",
            "(0 , 0)\n",
            "(0 , 1)\n",
            "(-1 , 1)\n",
            "(-1 , 0)\n",
            "(0 , 0)\n",
            "------\n",
            "Part 2\n",
            "------\n",
            "(0 , 0)\n",
            "(-1 , -1)\n",
            "False\n",
            "True\n"
          ]
        }
      ]
    },
    {
      "cell_type": "code",
      "source": [
        "#Task 3\n",
        "\n",
        "class Tournament:\n",
        "    def __init__(self,name='Default'):\n",
        "        self.__name = name\n",
        "    def set_name(self,name):\n",
        "        self.__name = name\n",
        "    def get_name(self):\n",
        "        return self.__name\n",
        "\n",
        "class Cricket_Tournament(Tournament):\n",
        "    def __init__(self, name = \"Default\", teams = 0, type1 = \"No type\"):\n",
        "        super().__init__(name)\n",
        "        self.teams = teams\n",
        "        self.type1 = type1\n",
        "    def detail(self):\n",
        "        return f\"Cricket Tournament Name: {super().get_name()}\\nNumber of Teams: {self.teams}\\nType: {self.type1}\"\n",
        "class Tennis_Tournament(Tournament):\n",
        "    def __init__(self, name, players):\n",
        "        super().__init__(name)\n",
        "        self.players = players\n",
        "    def detail(self):\n",
        "        return f\"Tennis Tournament Name: {super().get_name()}\\nNumber of Players: {self.players}\"\n",
        "ct1 = Cricket_Tournament()\n",
        "print(ct1.detail())\n",
        "print(\"-----------------------\")\n",
        "ct2 = Cricket_Tournament(\"IPL\",10,\"t20\")\n",
        "print(ct2.detail())\n",
        "print(\"-----------------------\")\n",
        "tt = Tennis_Tournament(\"Roland Garros\",128)\n",
        "print(tt.detail())\n",
        "\n",
        "\n",
        "\n"
      ],
      "metadata": {
        "colab": {
          "base_uri": "https://localhost:8080/"
        },
        "id": "bagQ0O7EDpWc",
        "outputId": "f115be37-0388-47d9-f854-d0273f043954"
      },
      "execution_count": null,
      "outputs": [
        {
          "output_type": "stream",
          "name": "stdout",
          "text": [
            "Cricket Tournament Name: Default\n",
            "Number of Teams: 0\n",
            "Type: No type\n",
            "-----------------------\n",
            "Cricket Tournament Name: IPL\n",
            "Number of Teams: 10\n",
            "Type: t20\n",
            "-----------------------\n",
            "Tennis Tournament Name: Roland Garros\n",
            "Number of Players: 128\n"
          ]
        }
      ]
    },
    {
      "cell_type": "code",
      "source": [
        "#Task 4\n",
        "\n",
        "class Product:\n",
        "    def __init__(self,id, title, price):\n",
        "        self.__id = id\n",
        "        self.__title = title\n",
        "        self.__price = price\n",
        "    def get_id_title_price(self):\n",
        "        return \"ID: \"+str(self.__id)+\" Title: \"+self.__title+        \" Price: \"+str(self.__price)\n",
        "\n",
        "class Book(Product):\n",
        "    def __init__(self, id, title, price, isbn, publisher):\n",
        "        super().__init__(id, title, price)\n",
        "        self.isbn = isbn\n",
        "        self.publisher = publisher\n",
        "    def printDetail(self):\n",
        "        return f\"{super().get_id_title_price()}\\nISBN: {self.isbn} Publisher: {self.publisher}\"\n",
        "class CD(Product):\n",
        "    def __init__(self, id, title, price, band, duration, genre):\n",
        "        super().__init__(id, title, price)\n",
        "        self.band = band\n",
        "        self.duration = duration\n",
        "        self.genre = genre\n",
        "    def printDetail(self):\n",
        "        return f\"{super().get_id_title_price()}\\nBand: {self.band} Duration: {self.duration} minutes\\nGenre: {self.genre}\"\n",
        "\n",
        "book = Book(1,\"The Alchemist\",500,\"97806\",\"HarperCollins\")\n",
        "print(book.printDetail())\n",
        "print(\"-----------------------\")\n",
        "cd = CD(2,\"Shotto\",300,\"Warfaze\",50,\"Hard Rock\")\n",
        "print(cd.printDetail())\n"
      ],
      "metadata": {
        "colab": {
          "base_uri": "https://localhost:8080/"
        },
        "id": "cZfTac3lDrgc",
        "outputId": "0f9a85b6-9f18-4ad1-dc50-710ed5d6d903"
      },
      "execution_count": null,
      "outputs": [
        {
          "output_type": "stream",
          "name": "stdout",
          "text": [
            "ID: 1 Title: The Alchemist Price: 500\n",
            "ISBN: 97806 Publisher: HarperCollins\n",
            "-----------------------\n",
            "ID: 2 Title: Shotto Price: 300\n",
            "Band: Warfaze Duration: 50 minutes\n",
            "Genre: Hard Rock\n"
          ]
        }
      ]
    },
    {
      "cell_type": "code",
      "execution_count": null,
      "metadata": {
        "colab": {
          "base_uri": "https://localhost:8080/"
        },
        "id": "pOZbfk3fhNIF",
        "outputId": "a3e8d9b4-c77e-4176-e20b-e288f58ba597"
      },
      "outputs": [
        {
          "output_type": "stream",
          "name": "stdout",
          "text": [
            "Animal does not make sound\n",
            "meow\n",
            "bark\n"
          ]
        }
      ],
      "source": [
        "#Task 5\n",
        "\n",
        "class Animal:\n",
        "    def __init__(self,sound):\n",
        "        self.__sound = sound\n",
        "\n",
        "    def makeSound(self):\n",
        "        return self.__sound\n",
        "\n",
        "\n",
        "\n",
        "class Printer:\n",
        "    def printSound(self, a):\n",
        "        print(a.makeSound())\n",
        "\n",
        "class Dog(Animal):\n",
        "    def __init__(self, sound):\n",
        "        super().__init__(sound)\n",
        "        self.__sound = sound\n",
        "class Cat(Animal):\n",
        "    def _init__(self, sound):\n",
        "        super().__init__(sound)\n",
        "        self.__sound = sound\n",
        "\n",
        "d1 = Dog('bark')\n",
        "c1 = Cat('meow')\n",
        "a1 = Animal('Animal does not make sound')\n",
        "pr = Printer()\n",
        "pr.printSound(a1)\n",
        "pr.printSound(c1)\n",
        "pr.printSound(d1)"
      ]
    },
    {
      "cell_type": "code",
      "source": [
        "#Task 6\n",
        "\n",
        "class Shape:\n",
        "\n",
        "    def __init__(self, name='Default', height=0, base=0):\n",
        "        self.area = 0\n",
        "        self.name = name\n",
        "        self.height = height\n",
        "        self.base = base\n",
        "\n",
        "    def get_height_base(self):\n",
        "        return \"Height: \"+str(self.height)+\", Base: \"+str(self.base)\n",
        "\n",
        "class triangle(Shape):\n",
        "    def __init__(self, name='Default', height=0, base=0):\n",
        "        super().__init__(name, height, base)\n",
        "    def calcArea(self):\n",
        "        self.area = 0.5*self.height*self.base\n",
        "    def printDetail(self):\n",
        "        return f\"Shape name: {self.name}\\n{super().get_height_base()}\\nArea: {self.area}\"\n",
        "class trapezoid(Shape):\n",
        "    def __init__(self, name='Default', height=0, base=0, side = 0):\n",
        "        super().__init__(name, height, base)\n",
        "        self.side = side\n",
        "    def calcArea(self):\n",
        "        self.area = 0.5*self.height*(self.base+self.side)\n",
        "    def printDetail(self):\n",
        "        return f\"Shape name: {self.name}\\n{super().get_height_base()}, Side_A: {self.side}\\nArea: {self.area}\"\n",
        "\n",
        "tri_default = triangle()\n",
        "tri_default.calcArea()\n",
        "print(tri_default.printDetail())\n",
        "print('--------------------------')\n",
        "tri = triangle('Triangle', 10, 5)\n",
        "tri.calcArea()\n",
        "print(tri.printDetail())\n",
        "print('---------------------------')\n",
        "trap = trapezoid('Trapezoid', 10, 6, 4)\n",
        "trap.calcArea()\n",
        "print(trap.printDetail())"
      ],
      "metadata": {
        "colab": {
          "base_uri": "https://localhost:8080/"
        },
        "id": "ls0j7f_VjeaI",
        "outputId": "49ad9973-9fbc-41be-b9ed-24208546eecc"
      },
      "execution_count": null,
      "outputs": [
        {
          "output_type": "stream",
          "name": "stdout",
          "text": [
            "Shape name: Default\n",
            "Height: 0, Base: 0\n",
            "Area: 0.0\n",
            "--------------------------\n",
            "Shape name: Triangle\n",
            "Height: 10, Base: 5\n",
            "Area: 25.0\n",
            "---------------------------\n",
            "Shape name: Trapezoid\n",
            "Height: 10, Base: 6, Side_A: 4\n",
            "Area: 50.0\n"
          ]
        }
      ]
    },
    {
      "cell_type": "code",
      "source": [
        "#Task 7\n",
        "\n",
        "class SportsPerson:\n",
        "\n",
        "  def __init__(self, team_name, name, role):\n",
        "    self.__team = team_name\n",
        "    self.__name = name\n",
        "    self.role = role\n",
        "    self.earning_per_match = 0\n",
        "\n",
        "  def get_name_team(self):\n",
        "    return 'Name: '+self.__name+', Team Name: ' +self.__team\n",
        "\n",
        "class Player(SportsPerson):\n",
        "    def __init__(self, team_name, name, role, goal, player):\n",
        "        super().__init__(team_name, name, role)\n",
        "        self.goal =goal\n",
        "        self.player = player\n",
        "    def calculate_ratio(self):\n",
        "        self.ratio = self.goal/self.player\n",
        "    def print_details(self):\n",
        "        print(f\"{super().get_name_team()}\\nTeam Role:{self.role}\\nTotal Goal: {self.goal}, Total Played: {self.player}\\nGoal Ratio: {self.ratio}\\nMatch Earning: {self.goal*1000+self.player*10}K\")\n",
        "class Manager(SportsPerson):\n",
        "    def __init__(self, team_name, name, role, win):\n",
        "        super().__init__(team_name, name, role)\n",
        "        self.win =win\n",
        "    def print_details(self):\n",
        "        print(f\"{super().get_name_team()}\\nTeam Role:{self.role}\\nTotal Win: {self.win}\\nMatch Earning: {self.win*1000}K\")\n",
        "\n",
        "player_one = Player('Juventus', 'Ronaldo', 'Striker', 25, 32)\n",
        "player_one.calculate_ratio()\n",
        "player_one.print_details()\n",
        "print('------------------------------------------')\n",
        "manager_one = Manager('Real Madrid', 'Zidane', 'Manager', 25)\n",
        "manager_one.print_details()\n"
      ],
      "metadata": {
        "colab": {
          "base_uri": "https://localhost:8080/"
        },
        "id": "0E2WGzC7wWso",
        "outputId": "ffe958a2-01ab-43f1-9ec0-29101b16a050"
      },
      "execution_count": null,
      "outputs": [
        {
          "output_type": "stream",
          "name": "stdout",
          "text": [
            "Name: Ronaldo, Team Name: Juventus\n",
            "Team Role:Striker\n",
            "Total Goal: 25, Total Played: 32\n",
            "Goal Ratio: 0.78125\n",
            "Match Earning: 25320K\n",
            "------------------------------------------\n",
            "Name: Zidane, Team Name: Real Madrid\n",
            "Team Role:Manager\n",
            "Total Win: 25\n",
            "Match Earning: 25000K\n"
          ]
        }
      ]
    }
  ]
}