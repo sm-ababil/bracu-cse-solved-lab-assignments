{
  "cells": [
    {
      "cell_type": "code",
      "execution_count": null,
      "metadata": {
        "colab": {
          "base_uri": "https://localhost:8080/"
        },
        "id": "xb4NzRdeWT5y",
        "outputId": "af6d4793-8e2c-446e-e628-04d940b9a27f"
      },
      "outputs": [
        {
          "name": "stdout",
          "output_type": "stream",
          "text": [
            "Quiz 1 (out of 10): 10\n",
            "Quiz 2 (out of 10): 8\n",
            "Lab (out of 30): 30\n",
            "Mid (out of 20): 20\n",
            "Final (out of 30): 29\n",
            "Total marks: 97\n"
          ]
        }
      ],
      "source": [
        "#Task 1\n",
        "\n",
        "class Exam:\n",
        "\n",
        "    def __init__(self, mark):\n",
        "        self.mark = mark\n",
        "\n",
        "    def __add__(self, other):\n",
        "        return Exam(self.mark + other.mark)\n",
        "\n",
        "Q1 = Exam(int(input(\"Quiz 1 (out of 10): \")))\n",
        "Q2 = Exam(int(input(\"Quiz 2 (out of 10): \")))\n",
        "Lab = Exam(int(input(\"Lab (out of 30): \")))\n",
        "Mid = Exam(int(input(\"Mid (out of 20): \")))\n",
        "Final = Exam(int(input(\"Final (out of 30): \")))\n",
        "total = Q1 + Q2 + Lab + Mid + Final\n",
        "print(\"Total marks: {}\".format(total.mark))"
      ]
    },
    {
      "cell_type": "code",
      "execution_count": null,
      "metadata": {
        "colab": {
          "base_uri": "https://localhost:8080/"
        },
        "id": "Rii4IkiAh4om",
        "outputId": "13ce2e32-67eb-47f5-b686-05818cae6ee5"
      },
      "outputs": [
        {
          "output_type": "stream",
          "name": "stdout",
          "text": [
            "====================================\n",
            "Name: Saad Abdullah\n",
            "Department: CSE\n",
            "List of courses\n",
            "====================================\n",
            "CSE 110 Programming Language I\n",
            "CSE 111 Programming Language-II\n",
            "====================================\n",
            "====================================\n",
            "Name: Mumit Khan\n",
            "Department: CSE\n",
            "List of courses\n",
            "====================================\n",
            "CSE 220 Data Structures\n",
            "CSE 221 Algorithms\n",
            "CCSE 230 Discrete Mathematics\n",
            "====================================\n",
            "====================================\n",
            "Name: Sadia Kazi\n",
            "Department: CSE\n",
            "List of courses\n",
            "====================================\n",
            "CSE 310 Object Oriented Programming\n",
            "CSE 320 Data Communications\n",
            "CSE 340 Computer Architecture\n",
            "====================================\n"
          ]
        }
      ],
      "source": [
        "#Task 2\n",
        "\n",
        "class Teacher:\n",
        "\n",
        "    def __init__(self, name, dept):\n",
        "        self.__name = name\n",
        "        self.__dept = dept\n",
        "        self.__course_list = []\n",
        "    def addCourse(self, course1):\n",
        "        self.__course_list.append(course1.course_name)\n",
        "    def printDetail(self):\n",
        "        print(\"====================================\")\n",
        "        print(f\"Name: {self.__name}\\nDepartment: {self.__dept}\\nList of courses\")\n",
        "        print(\"====================================\")\n",
        "        for course in self.__course_list:\n",
        "            print(course)\n",
        "        print(\"====================================\")\n",
        "class Course:\n",
        "\n",
        "    def __init__(self, course_name):\n",
        "        self.course_name = course_name\n",
        "\n",
        "\n",
        "t1 = Teacher(\"Saad Abdullah\", \"CSE\")\n",
        "t2 = Teacher(\"Mumit Khan\", \"CSE\")\n",
        "t3 = Teacher(\"Sadia Kazi\", \"CSE\")\n",
        "c1 = Course(\"CSE 110 Programming Language I\")\n",
        "c2 = Course(\"CSE 111 Programming Language-II\")\n",
        "c3 = Course(\"CSE 220 Data Structures\")\n",
        "c4 = Course(\"CSE 221 Algorithms\")\n",
        "c5 = Course(\"CCSE 230 Discrete Mathematics\")\n",
        "c6 = Course(\"CSE 310 Object Oriented Programming\")\n",
        "c7 = Course(\"CSE 320 Data Communications\")\n",
        "c8 = Course(\"CSE 340 Computer Architecture\")\n",
        "t1.addCourse(c1)\n",
        "t1.addCourse(c2)\n",
        "t2.addCourse(c3)\n",
        "t2.addCourse(c4)\n",
        "t2.addCourse(c5)\n",
        "t3.addCourse(c6)\n",
        "t3.addCourse(c7)\n",
        "t3.addCourse(c8)\n",
        "t1.printDetail()\n",
        "t2.printDetail()\n",
        "t3.printDetail()\n",
        "\n"
      ]
    },
    {
      "cell_type": "code",
      "execution_count": null,
      "metadata": {
        "colab": {
          "base_uri": "https://localhost:8080/"
        },
        "id": "cuwhaXK1c7PL",
        "outputId": "9203f5a9-8b91-45b0-a5f0-17568aa421c6"
      },
      "outputs": [
        {
          "name": "stdout",
          "output_type": "stream",
          "text": [
            "=====================\n",
            "Team: Bangladesh\n",
            "List of Players:\n",
            "['Mashrafi', 'Tamim']\n",
            "=====================\n",
            "=====================\n",
            "Team: Bangladesh\n",
            "List of Players:\n",
            "['Ponting', 'Lee']\n",
            "=====================\n"
          ]
        }
      ],
      "source": [
        "#Task 3\n",
        "\n",
        "class Team:\n",
        "\n",
        "    def __init__(self, name = None):\n",
        "        self.__name = name\n",
        "        self.__playerlist = []\n",
        "    def setName(self, newname):\n",
        "        self.__name = newname\n",
        "    def addPlayer(self, member):\n",
        "        self.__playerlist.append(member.player)\n",
        "    def printDetail(self):\n",
        "        print(\"=====================\")\n",
        "        print(f\"Team: Bangladesh\\nList of Players:\\n{self.__playerlist}\")\n",
        "        print(\"=====================\")\n",
        "\n",
        "class Player:\n",
        "\n",
        "    def __init__(self, player):\n",
        "        self.player = player\n",
        "\n",
        "b = Team()\n",
        "b.setName('Bangladesh')\n",
        "mashrafi = Player(\"Mashrafi\")\n",
        "b.addPlayer(mashrafi)\n",
        "tamim = Player(\"Tamim\")\n",
        "b.addPlayer(tamim)\n",
        "b.printDetail()\n",
        "a = Team(\"Australia\")\n",
        "ponting = Player(\"Ponting\")\n",
        "a.addPlayer(ponting)\n",
        "lee = Player(\"Lee\")\n",
        "a.addPlayer(lee)\n",
        "a.printDetail()\n"
      ]
    },
    {
      "cell_type": "code",
      "execution_count": null,
      "metadata": {
        "colab": {
          "base_uri": "https://localhost:8080/"
        },
        "id": "bCXyJoeNhTra",
        "outputId": "e4612107-576d-4597-abbc-2df1ea7d381e"
      },
      "outputs": [
        {
          "name": "stdout",
          "output_type": "stream",
          "text": [
            "First Color: yellow\n",
            "Second Color: BLUE\n",
            "Color formed: Green\n"
          ]
        }
      ],
      "source": [
        "#Task 4\n",
        "\n",
        "class Color:\n",
        "\n",
        "    def __init__(self, color):\n",
        "        valid_color = [\"red\", \"blue\", \"yellow\"]\n",
        "        if color in valid_color:\n",
        "            self.clr = color\n",
        "        if color == \"redyellow\" or color == \"yellowred\":\n",
        "            self.clr = \"Orange\"\n",
        "        if color == \"redblue\" or color == \"bluered\":\n",
        "            self.clr = \"Violet\"\n",
        "        if color == \"yellowblue\" or color == \"blueyeloow\":\n",
        "            self.clr = \"Green\"\n",
        "\n",
        "    def __add__(self, other):\n",
        "        return Color(self.clr + other.clr)\n",
        "\n",
        "\n",
        "C1 = Color(input(\"First Color: \").lower())\n",
        "C2 = Color(input(\"Second Color: \").lower())\n",
        "C3 = C1 + C2\n",
        "print(\"Color formed:\", C3.clr)\n",
        "\n"
      ]
    },
    {
      "cell_type": "code",
      "execution_count": null,
      "metadata": {
        "colab": {
          "base_uri": "https://localhost:8080/"
        },
        "id": "Em1EJYd8lGHE",
        "outputId": "a9d7ce8d-6c27-4837-a94b-0836966a0cf2"
      },
      "outputs": [
        {
          "name": "stdout",
          "output_type": "stream",
          "text": [
            "First circle radius: 4\n",
            "First circle area: 50.26548245743669\n",
            "Second circle radius: 5\n",
            "Second circle area: 78.53981633974483\n",
            "Third circle radius: 9\n",
            "Third circle area: 254.46900494077323\n"
          ]
        }
      ],
      "source": [
        "#Task 5\n",
        "import math\n",
        "\n",
        "class Circle:\n",
        "\n",
        "    def __init__(self, radius):\n",
        "        self.__radius = radius\n",
        "    def setRadius(self, new_radius):\n",
        "        self.__radius = new_radius\n",
        "    def getRadius(self):\n",
        "        return self.__radius\n",
        "    def area(self):\n",
        "        return math.pi * pow(self.__radius, 2)\n",
        "    def __add__(self, other):\n",
        "        return Circle(self.__radius + other.__radius)\n",
        "\n",
        "\n",
        "c1 = Circle(4)\n",
        "print(\"First circle radius:\" , c1.getRadius())\n",
        "print(\"First circle area:\" ,c1.area())\n",
        "\n",
        "c2 = Circle(5)\n",
        "print(\"Second circle radius:\" ,c2.getRadius())\n",
        "print(\"Second circle area:\" ,c2.area())\n",
        "\n",
        "c3 = c1 + c2\n",
        "print(\"Third circle radius:\" ,c3.getRadius())\n",
        "print(\"Third circle area:\" ,c3.area())"
      ]
    },
    {
      "cell_type": "code",
      "execution_count": null,
      "metadata": {
        "colab": {
          "background_save": true,
          "base_uri": "https://localhost:8080/"
        },
        "id": "Rq8_H1dxszPI",
        "outputId": "4c61f44f-405a-4e8a-de47-63e318544601"
      },
      "outputs": [
        {
          "name": "stdout",
          "output_type": "stream",
          "text": [
            "First Triangle Base: 10\n",
            "First Triangle Height: 5\n",
            "First Triangle area: 25.0\n",
            "Second Triangle Base: 5\n",
            "Second Triangle Height: 3\n",
            "Second Triangle area: 7.5\n",
            "Third Triangle Base: 5\n",
            "Third Triangle Height: 2\n",
            "Third Triangle area: 5.0\n"
          ]
        }
      ],
      "source": [
        "#Task 6\n",
        "\n",
        "class Triangle:\n",
        "\n",
        "    def __init__(self, base, height):\n",
        "        self.__base = base\n",
        "        self.__height = height\n",
        "    def setBase(self, new_base):\n",
        "        self.__base = new_base\n",
        "    def setHeight(self, new_height):\n",
        "        self.__height = new_height\n",
        "    def getBase(self):\n",
        "        return self.__base\n",
        "    def getHeight(self):\n",
        "        return self.__height\n",
        "    def area(self):\n",
        "        return 0.5*self.__base*self.__height\n",
        "    def __sub__(self, other):\n",
        "        return Triangle((self.__base - other.__base), (self.__height - other.__height) )\n",
        "\n",
        "\n",
        "t1 = Triangle(10, 5)\n",
        "print(\"First Triangle Base:\" , t1.getBase())\n",
        "print(\"First Triangle Height:\" , t1.getHeight())\n",
        "print(\"First Triangle area:\" ,t1.area())\n",
        "\n",
        "t2 = Triangle(5, 3)\n",
        "print(\"Second Triangle Base:\" , t2.getBase())\n",
        "print(\"Second Triangle Height:\" , t2.getHeight())\n",
        "print(\"Second Triangle area:\" ,t2.area())\n",
        "\n",
        "t3 = t1 - t2\n",
        "print(\"Third Triangle Base:\" , t3.getBase())\n",
        "print(\"Third Triangle Height:\" , t3.getHeight())\n",
        "print(\"Third Triangle area:\" ,t3.area())"
      ]
    },
    {
      "cell_type": "code",
      "execution_count": null,
      "metadata": {
        "colab": {
          "base_uri": "https://localhost:8080/"
        },
        "id": "5Sd3w8QtvUIJ",
        "outputId": "a00fa93f-adde-4be3-c709-171d534985cb"
      },
      "outputs": [
        {
          "name": "stdout",
          "output_type": "stream",
          "text": [
            "Doll: Tweety\n",
            "Total Price: 2500 taka\n",
            "Thank you!\n",
            "=========================\n",
            "Doll: Daffy Duck\n",
            "Total Price: 1800 taka\n",
            "Thank you!\n",
            "=========================\n",
            "Doll: Bugs Bunny\n",
            "Total Price: 3000 taka\n",
            "Congratulations! You get the Tweety as a gift!\n",
            "=========================\n",
            "Doll: Porky Pig\n",
            "Total Price: 1500 taka\n",
            "Thank you!\n",
            "=========================\n",
            "Dolls: Daffy Duck Bugs Bunny\n",
            "Total Price: 4800 taka\n",
            "Congratulations! You get the Tweety as a gift!\n"
          ]
        }
      ],
      "source": [
        "#Task 7\n",
        "\n",
        "class Dolls:\n",
        "\n",
        "    def __init__(self, name, price, count = None):\n",
        "        self.__name = name\n",
        "        self.__price = price\n",
        "        self.count = count\n",
        "\n",
        "    def detail(self):\n",
        "        if self.count == None:\n",
        "            return f\"Doll: {self.__name}\\nTotal Price: {self.__price} taka\"\n",
        "        else:\n",
        "            return f\"Dolls: {self.__name}\\nTotal Price: {self.__price} taka\"\n",
        "    def __add__(self, other):\n",
        "        return Dolls(self.__name + \" \" + other.__name, self.__price+other.__price, 1)\n",
        "    def __gt__(self, other):\n",
        "        return self.__price > other.__price\n",
        "\n",
        "obj_1 = Dolls(\"Tweety\", 2500)\n",
        "print(obj_1.detail())\n",
        "if obj_1 > obj_1:\n",
        "    print(\"Congratulations! You get the Tweety as a gift!\")\n",
        "else:\n",
        "    print(\"Thank you!\")\n",
        "\n",
        "print(\"=========================\")\n",
        "obj_2 = Dolls(\"Daffy Duck\", 1800)\n",
        "print(obj_2.detail())\n",
        "if obj_2 > obj_1:\n",
        "    print(\"Congratulations! You get the Tweety as a gift!\")\n",
        "else:\n",
        "    print(\"Thank you!\")\n",
        "\n",
        "print(\"=========================\")\n",
        "obj_3 = Dolls(\"Bugs Bunny\", 3000)\n",
        "print(obj_3.detail())\n",
        "if obj_3 > obj_1:\n",
        "    print(\"Congratulations! You get the Tweety as a gift!\")\n",
        "else:\n",
        "    print(\"Thank you!\")\n",
        "\n",
        "print(\"=========================\")\n",
        "obj_4 = Dolls(\"Porky Pig\", 1500)\n",
        "print(obj_4.detail())\n",
        "if obj_4 > obj_1:\n",
        "    print(\"Congratulations! You get the Tweety as a gift!\")\n",
        "else:\n",
        "    print(\"Thank you!\")\n",
        "\n",
        "print(\"=========================\")\n",
        "obj_5 = obj_2 + obj_3\n",
        "print(obj_5.detail())\n",
        "if obj_5 > obj_1:\n",
        "    print(\"Congratulations! You get the Tweety as a gift!\")\n",
        "else:\n",
        "    print(\"Thank you!\")"
      ]
    },
    {
      "cell_type": "code",
      "execution_count": null,
      "metadata": {
        "colab": {
          "base_uri": "https://localhost:8080/"
        },
        "id": "g1w5Utj3yco1",
        "outputId": "cf5c5131-770f-41de-d7f5-6f55e494ae6a"
      },
      "outputs": [
        {
          "name": "stdout",
          "output_type": "stream",
          "text": [
            "1\n",
            "2\n",
            "3\n",
            "4\n",
            "(-2, -2)\n",
            "(3, 8)\n",
            "The calculated coordinates are NOT the same.\n"
          ]
        }
      ],
      "source": [
        "#Task 8\n",
        "\n",
        "class Coordinates:\n",
        "\n",
        "    def __init__(self, cox, coy):\n",
        "        self.cox = cox\n",
        "        self.coy = coy\n",
        "\n",
        "    def __sub__(self, other):\n",
        "        return Coordinates(self.cox - other.cox, self.coy - other.coy)\n",
        "\n",
        "    def __mul__(self, other):\n",
        "        return Coordinates(self.cox * other.cox, self.coy * other.coy)\n",
        "    def __eq__(self, other):\n",
        "        if self.cox == other.cox and self.coy == self.coy:\n",
        "            return \"The calculated coordinates are the same.\"\n",
        "        else:\n",
        "            return \"The calculated coordinates are NOT the same.\"\n",
        "    def detail(self):\n",
        "        return f\"({self.cox}, {self.coy})\"\n",
        "\n",
        "p1 = Coordinates(int(input()),int(input()))\n",
        "p2 = Coordinates(int(input()),int(input()))\n",
        "\n",
        "p4 = p1 - p2\n",
        "print(p4.detail())\n",
        "\n",
        "p5 = p1 * p2\n",
        "print(p5.detail())\n",
        "\n",
        "point_check = (p4 == p5)\n",
        "print(point_check)"
      ]
    }
  ],
  "metadata": {
    "colab": {
      "provenance": []
    },
    "kernelspec": {
      "display_name": "Python 3",
      "name": "python3"
    },
    "language_info": {
      "name": "python"
    }
  },
  "nbformat": 4,
  "nbformat_minor": 0
}