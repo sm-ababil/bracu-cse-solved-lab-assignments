{
  "nbformat": 4,
  "nbformat_minor": 0,
  "metadata": {
    "colab": {
      "provenance": []
    },
    "kernelspec": {
      "name": "python3",
      "display_name": "Python 3"
    },
    "language_info": {
      "name": "python"
    }
  },
  "cells": [
    {
      "cell_type": "markdown",
      "source": [
        "# **STRING**"
      ],
      "metadata": {
        "id": "eExqOkx2EV49"
      }
    },
    {
      "cell_type": "code",
      "execution_count": null,
      "metadata": {
        "id": "QvozqDtIvlXQ",
        "colab": {
          "base_uri": "https://localhost:8080/"
        },
        "outputId": "737bd119-46f2-420f-8d7d-134c4191d6d6"
      },
      "outputs": [
        {
          "output_type": "stream",
          "name": "stdout",
          "text": [
            "Please, enter the string: BaNaNa\n",
            "banana\n"
          ]
        }
      ],
      "source": [
        "#Task 1\n",
        "\n",
        "string1 = input(\"Please, enter the string: \")\n",
        "upper = 0\n",
        "lower = 0\n",
        "\n",
        "for i in string1:\n",
        "    if 64< ord(i) <91:\n",
        "        upper += 1\n",
        "    else:\n",
        "        lower += 1\n",
        "\n",
        "if upper>lower:\n",
        "    print(string1.upper())\n",
        "else:\n",
        "    print(string1.lower())"
      ]
    },
    {
      "cell_type": "code",
      "source": [
        "#Task 2\n",
        "\n",
        "string1 = input(\"Please, enter the string: \")\n",
        "word = False\n",
        "number = False\n",
        "\n",
        "for i in string1:\n",
        "    if 64<ord(i)<91 or 96<ord(i)<123:\n",
        "        word = True\n",
        "        break\n",
        "for i in string1:\n",
        "    if 47<ord(i)<58:\n",
        "        number = True\n",
        "        break\n",
        "        \n",
        "if word == True and number == False:\n",
        "    print(\"WORD\")\n",
        "elif word == False and number == True:\n",
        "    print(\"NUMBER\")\n",
        "else:\n",
        "    print(\"MIXED\")"
      ],
      "metadata": {
        "colab": {
          "base_uri": "https://localhost:8080/"
        },
        "id": "pl9xEcucF3rf",
        "outputId": "b4feb9c3-c2b5-41f4-de64-8712a0b8b0ef"
      },
      "execution_count": null,
      "outputs": [
        {
          "output_type": "stream",
          "name": "stdout",
          "text": [
            "Please, enter the string: jhg231j213\n",
            "MIXED\n"
          ]
        }
      ]
    },
    {
      "cell_type": "code",
      "source": [
        "#Task 3\n",
        "\n",
        "string1 = input(\"Please, input the string:\")\n",
        "counter = 0\n",
        "idx1 = 0\n",
        "idx2 = 0\n",
        "for i in string1:\n",
        "    if 65<=ord(i)<=90 and counter == 0:\n",
        "        idx1 = string1.find(i)+1\n",
        "        counter+=1\n",
        "    elif 65<=ord(i)<=90 and counter == 1:\n",
        "        idx2 = string1.find(i)\n",
        "        counter+=1\n",
        "\n",
        "if counter == 2 :\n",
        "    print(string1[idx1:idx2])\n",
        "else:\n",
        "    print(\"BLANK\")"
      ],
      "metadata": {
        "colab": {
          "base_uri": "https://localhost:8080/"
        },
        "id": "2s8lGyL1KKfY",
        "outputId": "16d6268c-5454-40a1-9a77-9f8169cbfd23"
      },
      "execution_count": null,
      "outputs": [
        {
          "output_type": "stream",
          "name": "stdout",
          "text": [
            "Please, input the string:skdfjdBdfgjNgihljdojh\n",
            "dfgj\n"
          ]
        }
      ]
    },
    {
      "cell_type": "code",
      "source": [
        "#Task 4\n",
        "\n",
        "string1 = input(\"Please, input the string:\")\n",
        "string2 = input(\"Please, input the string:\")\n",
        "string3 = \"\"\n",
        "string4 = \"\"\n",
        "\n",
        "for i in string1:\n",
        "    if i in string2:\n",
        "        string3+=i\n",
        "\n",
        "for i in string2:\n",
        "    if i in string1:\n",
        "        string4+=i\n",
        "if string3 == \"\":\n",
        "    print(\"Nothing in common.\")\n",
        "else:\n",
        "    print(string3+string4)\n",
        "\n",
        "\n",
        "    "
      ],
      "metadata": {
        "colab": {
          "base_uri": "https://localhost:8080/"
        },
        "id": "46xDfUN5OqBq",
        "outputId": "95cd05e0-cb77-416a-ad33-813270c3f84b"
      },
      "execution_count": null,
      "outputs": [
        {
          "output_type": "stream",
          "name": "stdout",
          "text": [
            "Please, input the string:dean\n",
            "Please, input the string:tom\n",
            "Nothing in common.\n"
          ]
        }
      ]
    },
    {
      "cell_type": "code",
      "source": [
        "#Task 5\n",
        "\n",
        "password = input(\"Please, input the password:\")\n",
        "lowercase = 0\n",
        "uppercase = 0\n",
        "digit = 0\n",
        "special = 0\n",
        "missing=\"\"\n",
        "\n",
        "for i in password:\n",
        "    order =ord(i)\n",
        "    if 65<order<=90:\n",
        "        uppercase += 1\n",
        "    elif 97<order<=122:\n",
        "        lowercase+=1\n",
        "    elif 48<order<=57:\n",
        "        digit+=1\n",
        "    elif order ==95 or order==36 or order==35 or order==64:\n",
        "        special+=1\n",
        "       \n",
        "if lowercase == 0:\n",
        "    missing+=\"Lowercase Missing, \"\n",
        "\n",
        "if uppercase == 0:\n",
        "    missing+=\"Uppercase Missing, \"\n",
        "\n",
        "if digit == 0:\n",
        "    missing+=\"Digit Missing, \"\n",
        "\n",
        "if special == 0:\n",
        "    missing+=\"Special character missing, \"\n",
        "\n",
        "if lowercase != 0 and uppercase != 0 and digit != 0 and special != 0:\n",
        "    print(\"OK\")\n",
        "else:\n",
        "    print(missing[:-2])"
      ],
      "metadata": {
        "colab": {
          "base_uri": "https://localhost:8080/"
        },
        "id": "A7MDq7WAZmHS",
        "outputId": "ca239a15-095d-406d-c863-2869d88fcfac"
      },
      "execution_count": null,
      "outputs": [
        {
          "output_type": "stream",
          "name": "stdout",
          "text": [
            "Please, input the password:OhMyBR@CU20\n",
            "OK\n"
          ]
        }
      ]
    },
    {
      "cell_type": "markdown",
      "source": [
        "# **LIST**"
      ],
      "metadata": {
        "id": "ot_n09Q4fCA7"
      }
    },
    {
      "cell_type": "code",
      "source": [
        "#Task 1\n",
        "\n",
        "list1 = []\n",
        "list2 = []\n",
        "counter = 0\n",
        "\n",
        "while counter != \"STOP\":\n",
        "    entry = input(\"Enter the value:\")\n",
        "    if entry ==\"STOP\":\n",
        "        counter = \"STOP\"\n",
        "    else:\n",
        "        list1.append(int(entry))\n",
        "        counter+=1\n",
        "\n",
        "for i in list1:\n",
        "    count = 0\n",
        "    if i not in list2:\n",
        "        list2.append(i)\n",
        "        for j in list1:\n",
        "            if i==j:\n",
        "                count+=1\n",
        "    else:\n",
        "        continue\n",
        "\n",
        "    print(i,\"-\",count,\"times\")"
      ],
      "metadata": {
        "id": "gjavFQnpfAD7",
        "colab": {
          "base_uri": "https://localhost:8080/"
        },
        "outputId": "858d21e9-d6ff-45ec-ac5c-96c26736e55b"
      },
      "execution_count": null,
      "outputs": [
        {
          "output_type": "stream",
          "name": "stdout",
          "text": [
            "Enter the value:10\n",
            "Enter the value:20\n",
            "Enter the value:10\n",
            "Enter the value:30\n",
            "Enter the value:50\n",
            "Enter the value:40\n",
            "Enter the value:10\n",
            "Enter the value:20\n",
            "Enter the value:STOP\n",
            "10 - 3 times\n",
            "20 - 2 times\n",
            "30 - 1 times\n",
            "50 - 1 times\n",
            "40 - 1 times\n"
          ]
        }
      ]
    },
    {
      "cell_type": "code",
      "source": [
        "#Task 2\n",
        "\n",
        "N = int(input(\"Enter the number of lists: \"))\n",
        "lists = []\n",
        "sum_list = []\n",
        "\n",
        "for i in range(N):\n",
        "    input_list = input(\"Please, enter the list with a space between the numbers: \")\n",
        "    list1 = input_list.split(\" \")\n",
        "    lists.append(list1)\n",
        "    counter = 0\n",
        "    for j in list1:\n",
        "        counter+=int(j)\n",
        "    sum_list.append(counter)\n",
        "\n",
        "maximum = max(sum_list)\n",
        "print(maximum)\n",
        "print(lists[sum_list.index(maximum)])"
      ],
      "metadata": {
        "id": "qFY05kFxKQkm",
        "colab": {
          "base_uri": "https://localhost:8080/"
        },
        "outputId": "110065d4-6a9d-4af2-c80f-9f3435fe69b7"
      },
      "execution_count": null,
      "outputs": [
        {
          "output_type": "stream",
          "name": "stdout",
          "text": [
            "Enter the number of lists: 3\n",
            "Please, enter the list with a space between the numbers: 2 4 5 7 8\n",
            "Please, enter the list with a space between the numbers: 23 45 768 90\n",
            "Please, enter the list with a space between the numbers: 23 546 23 67 23\n",
            "926\n",
            "['23', '45', '768', '90']\n"
          ]
        }
      ]
    },
    {
      "cell_type": "code",
      "source": [
        "#Task 3\n",
        "\n",
        "while True:\n",
        "    entry = input(\"input the numbers: \")\n",
        "    if entry == \"STOP\":\n",
        "        break\n",
        "    else:\n",
        "        num_list = entry.split(\" \")\n",
        "        range_list = []\n",
        "        for i in range(1, len(num_list)):\n",
        "            range_list.append(i)\n",
        "        ub_jump = True\n",
        "        for j in range(len(num_list)-1):\n",
        "            sequence = abs(int(num_list[j])-int(num_list[j+1]))\n",
        "            if sequence not in range_list :\n",
        "                ub_jump = False\n",
        "                break\n",
        "        if ub_jump:\n",
        "            print(\"UB Jumper\")\n",
        "        else:\n",
        "            print(\"Not UB Jumper\")\n"
      ],
      "metadata": {
        "id": "m2tRdL7AZzW2",
        "colab": {
          "base_uri": "https://localhost:8080/"
        },
        "outputId": "0929595b-a8e8-43e6-f6e6-e1de5d3e7645"
      },
      "execution_count": null,
      "outputs": [
        {
          "name": "stdout",
          "output_type": "stream",
          "text": [
            "input the numbers: 1 4 2 3\n",
            "UB Jumper\n",
            "input the numbers: 2 1 4 6 10\n",
            "UB Jumper\n",
            "input the numbers: 1 4 2 -1 6\n",
            "Not UB Jumper\n",
            "input the numbers: STOP\n"
          ]
        }
      ]
    },
    {
      "cell_type": "code",
      "source": [
        "#Task 4\n",
        "\n",
        "entry1 = input(\"Input the n and k value: \")\n",
        "entry2 = input(\"Input the participation numbers: \")\n",
        "entry1_list = entry1.split(\" \")\n",
        "entry2_list = entry2.split(\" \")\n",
        "entry2_int = []\n",
        "possible_team = int(entry1_list[0])//3\n",
        "\n",
        "for i in entry2_list:\n",
        "    entry2_int.append(int(i))\n",
        "entry2_int.sort()\n",
        "\n",
        "counter=0\n",
        "for i in range(possible_team):\n",
        "    participant = []\n",
        "    for j in range(3):\n",
        "        participant.append(entry2_int[j])\n",
        "    maximum = 5 - participant[2]\n",
        "\n",
        "    if maximum >= int(entry1_list[1]):\n",
        "        counter+=1\n",
        "    entry2_int = entry2_int[3:]\n",
        "\n",
        "print(counter)\n",
        "\n"
      ],
      "metadata": {
        "id": "httUGQP-iEQ2",
        "colab": {
          "base_uri": "https://localhost:8080/"
        },
        "outputId": "0a00a63a-63e3-491c-a3e0-789654bcaf89"
      },
      "execution_count": null,
      "outputs": [
        {
          "output_type": "stream",
          "name": "stdout",
          "text": [
            "Input the n and k value: 6 5\n",
            "Input the participation numbers: 0 0 0 0 0 0\n",
            "2\n"
          ]
        }
      ]
    },
    {
      "cell_type": "code",
      "source": [
        "a =[23,444,56]\n",
        "print(a.max())"
      ],
      "metadata": {
        "colab": {
          "base_uri": "https://localhost:8080/",
          "height": 190
        },
        "id": "mapzrYu2Jfby",
        "outputId": "4df00be6-a57d-4160-910d-269d0037b6ba"
      },
      "execution_count": null,
      "outputs": [
        {
          "output_type": "error",
          "ename": "AttributeError",
          "evalue": "ignored",
          "traceback": [
            "\u001b[0;31m---------------------------------------------------------------------------\u001b[0m",
            "\u001b[0;31mAttributeError\u001b[0m                            Traceback (most recent call last)",
            "\u001b[0;32m<ipython-input-8-4a285a1edd1a>\u001b[0m in \u001b[0;36m<module>\u001b[0;34m\u001b[0m\n\u001b[1;32m      1\u001b[0m \u001b[0ma\u001b[0m \u001b[0;34m=\u001b[0m\u001b[0;34m[\u001b[0m\u001b[0;36m23\u001b[0m\u001b[0;34m,\u001b[0m\u001b[0;36m444\u001b[0m\u001b[0;34m,\u001b[0m\u001b[0;36m56\u001b[0m\u001b[0;34m]\u001b[0m\u001b[0;34m\u001b[0m\u001b[0;34m\u001b[0m\u001b[0m\n\u001b[0;32m----> 2\u001b[0;31m \u001b[0mprint\u001b[0m\u001b[0;34m(\u001b[0m\u001b[0ma\u001b[0m\u001b[0;34m.\u001b[0m\u001b[0mmax\u001b[0m\u001b[0;34m(\u001b[0m\u001b[0;34m)\u001b[0m\u001b[0;34m)\u001b[0m\u001b[0;34m\u001b[0m\u001b[0;34m\u001b[0m\u001b[0m\n\u001b[0m",
            "\u001b[0;31mAttributeError\u001b[0m: 'list' object has no attribute 'max'"
          ]
        }
      ]
    },
    {
      "cell_type": "markdown",
      "source": [
        "# **DICTIONARY AND TUPLE**"
      ],
      "metadata": {
        "id": "zDXNBFtaOtta"
      }
    },
    {
      "cell_type": "code",
      "source": [
        "#Task 1\n",
        "\n",
        "input_dict1 = input(\"Enter the dict1: \")\n",
        "input_dict2 = input(\"Enter the dict2: \")\n",
        "list_dict1 = input_dict1.split(\",\")\n",
        "list_dict2 = input_dict2.split(\",\")\n",
        "dict1 = {}\n",
        "dict2 = {}\n",
        "added_dict = {}\n",
        "value_list = []\n",
        "\n",
        "for item in list_dict1:\n",
        "    item_list = item.split(\":\")\n",
        "    dict1[item_list[0]] = int(item_list[1])\n",
        "for item in list_dict2:\n",
        "    item_list = item.split(\":\")\n",
        "    dict2[item_list[0]] = int(item_list[1])\n",
        "for key in dict1:\n",
        "    if key in dict2:\n",
        "        added_dict[key]=dict1[key]+dict2[key]\n",
        "    else:\n",
        "        added_dict[key]=dict1[key]\n",
        "for key in dict2:\n",
        "    if key not in added_dict:\n",
        "        added_dict[key]=dict2[key]\n",
        "for key in added_dict:\n",
        "    if added_dict[key] in value_list:\n",
        "        continue\n",
        "    else:\n",
        "        value_list.append(added_dict[key])\n",
        "value_list.sort()\n",
        "print(added_dict)\n",
        "print(tuple(value_list))"
      ],
      "metadata": {
        "id": "CN37ZD5COywv"
      },
      "execution_count": null,
      "outputs": []
    },
    {
      "cell_type": "code",
      "source": [
        "#Task 2\n",
        "\n",
        "dict1 ={}\n",
        "\n",
        "while True:\n",
        "    entry = input(\"PLeae input the number: \")\n",
        "\n",
        "    if entry == \"STOP\":\n",
        "        break\n",
        "    else:\n",
        "        if entry not in dict1:\n",
        "            dict1[entry] = 1\n",
        "        else:\n",
        "            dict1[entry]+=1\n",
        "for key in dict1:\n",
        "    print(f\"{key} - {dict1[key]} times\")\n",
        "\n"
      ],
      "metadata": {
        "colab": {
          "base_uri": "https://localhost:8080/"
        },
        "id": "7kPw0k7naUQj",
        "outputId": "1058707c-7161-41cd-8440-78ce3f0da558"
      },
      "execution_count": null,
      "outputs": [
        {
          "output_type": "stream",
          "name": "stdout",
          "text": [
            "PLeae input the number: 10\n",
            "PLeae input the number: 23\n",
            "PLeae input the number: 45\n",
            "PLeae input the number: 10\n",
            "PLeae input the number: 23\n",
            "PLeae input the number: 10\n",
            "PLeae input the number: 34\n",
            "PLeae input the number: 23\n",
            "PLeae input the number: STOP\n",
            "10 - 3 times\n",
            "23 - 3 times\n",
            "45 - 1 times\n",
            "34 - 1 times\n"
          ]
        }
      ]
    },
    {
      "cell_type": "code",
      "source": [
        "#Task 3\n",
        "\n",
        "input_dict = input(\"Enter the dictionary: \")\n",
        "list_dict = input_dict.split(\", \")\n",
        "key_list = []\n",
        "value_list = []\n",
        "new_dict = {}\n",
        "\n",
        "for i in list_dict:\n",
        "    item_list = i.split(\" : \")\n",
        "    key_list.append(item_list[0])\n",
        "    value_list.append(item_list[1])\n",
        "\n",
        "for i in range(len(value_list)):\n",
        "    if value_list[i] not in new_dict:\n",
        "        new_dict[value_list[i]] = [key_list[i]]\n",
        "    else:\n",
        "        new_dict[value_list[i]].append(key_list[i])\n",
        "\n",
        "print(new_dict)"
      ],
      "metadata": {
        "id": "G7TUj8p9fZ5I",
        "colab": {
          "base_uri": "https://localhost:8080/"
        },
        "outputId": "89f71ee7-9caa-46c1-c4b1-3092b1c4474d"
      },
      "execution_count": null,
      "outputs": [
        {
          "output_type": "stream",
          "name": "stdout",
          "text": [
            "Enter the dictionary: key1 : value1, key2 : value2, key3 : value1\n",
            "{'value1': ['key1', 'key3'], 'value2': ['key2']}\n"
          ]
        }
      ]
    },
    {
      "cell_type": "code",
      "source": [
        "#Task 4\n",
        "\n",
        "message = input(\"Type the message: \")\n",
        "message = message.upper()\n",
        "\n",
        "keymap_dict = {\".\":1, \",\":11,\"?\":111,\"!\":1111,\":\":11111,\n",
        "               \"A\":2}\n",
        "\n",
        "for char in message:\n",
        "    if char in keymap_dict:\n",
        "        print(keymap_dict[char],end= \"\")"
      ],
      "metadata": {
        "colab": {
          "base_uri": "https://localhost:8080/"
        },
        "id": "nSB7gZx01yUj",
        "outputId": "05a38b1b-d9a2-4e97-e11d-8c4d418d47b2"
      },
      "execution_count": null,
      "outputs": [
        {
          "output_type": "stream",
          "name": "stdout",
          "text": [
            "Type the message: .,a\n",
            "1112"
          ]
        }
      ]
    },
    {
      "cell_type": "markdown",
      "source": [
        "# **FUNCTION**"
      ],
      "metadata": {
        "id": "D3WqcNJ0v0PV"
      }
    },
    {
      "cell_type": "code",
      "source": [
        "#Task 1\n",
        "\n",
        "def bmi(weight, height):\n",
        "    meter_height = height/100\n",
        "    bmi_calc = weight/pow(meter_height, 2)\n",
        "    if bmi_calc<18.5:\n",
        "        print(f\"Score is {bmi_calc}. You are Underweight\")\n",
        "    if 18.5<=bmi_calc<=24.9:\n",
        "        print(f\"Score is {bmi_calc}. You are Normal\")\n",
        "    if 25<=bmi_calc<=30:\n",
        "        print(f\"Score is {bmi_calc}. You are Overweight\")\n",
        "    if 30<bmi_calc:\n",
        "        print(f\"Score is {bmi_calc}. You are  Obese\")\n",
        "\n",
        "weight = int(input(\"Enter the weight in kg: \"))\n",
        "height = int(input('Enter the height in cm: '))\n",
        "\n",
        "bmi(weight, height)"
      ],
      "metadata": {
        "colab": {
          "base_uri": "https://localhost:8080/"
        },
        "id": "fq9pn7Hiv7A7",
        "outputId": "7d11abc9-f0aa-45d9-98ef-a4b0fe009b36"
      },
      "execution_count": null,
      "outputs": [
        {
          "output_type": "stream",
          "name": "stdout",
          "text": [
            "Enter the weight in kg: 55\n",
            "Enter the height in cm: 120\n",
            "Score is 38.19444444444444. You are  Obese\n"
          ]
        }
      ]
    },
    {
      "cell_type": "code",
      "source": [
        "#Task 2\n",
        "\n",
        "def add_divisible(mini, maxi, div):\n",
        "    counter = 0\n",
        "    for number in range(mini, maxi):\n",
        "        if number%div == 0:\n",
        "            counter+=number\n",
        "    return counter\n",
        "\n",
        "minimum = int(input(\"Please, input the maximum vlaue: \"))\n",
        "maximum = int(input(\"Please, input the mninimum value: \"))\n",
        "divisor = int(input(\"Please, input the divisor: \"))\n",
        "\n",
        "print(add_divisible(minimum, maximum, divisor))\n"
      ],
      "metadata": {
        "colab": {
          "base_uri": "https://localhost:8080/"
        },
        "id": "HkG1lf6XrexG",
        "outputId": "1ba9a7d1-21c6-42c0-ba3e-0acbe6039003"
      },
      "execution_count": null,
      "outputs": [
        {
          "output_type": "stream",
          "name": "stdout",
          "text": [
            "Please, input the maximum vlaue: 3\n",
            "Please, input the mninimum value: 16\n",
            "Please, input the divisor: 3\n",
            "45\n"
          ]
        }
      ]
    },
    {
      "cell_type": "code",
      "source": [
        "#Task 3\n",
        "\n",
        "def price(burger, place = \"Mohakhali\"):\n",
        "    meal_cost = 0\n",
        "    delivery_charge = 0\n",
        "    if burger == \"BBQ Chicken Cheese Burger\":\n",
        "        meal_cost+=250\n",
        "    elif burger == \"Beef Burger\":\n",
        "        meal_cost+=170\n",
        "    elif burger == \"Naga Drums\":\n",
        "        meal_cost+=200\n",
        "\n",
        "    if place == \"Mohakhali\":\n",
        "        delivery_charge+=40\n",
        "    else:\n",
        "        delivery_charge+=60\n",
        "\n",
        "    tax = meal_cost*0.08\n",
        "    total = meal_cost + delivery_charge + tax\n",
        "\n",
        "    return total\n",
        "\n",
        "print(price(\"Beef Burger\",\"Dhanmandi\"))"
      ],
      "metadata": {
        "colab": {
          "base_uri": "https://localhost:8080/"
        },
        "id": "hXwMkNOguCoS",
        "outputId": "6d9e57da-c72a-41bc-b006-c35d8d1a1793"
      },
      "execution_count": null,
      "outputs": [
        {
          "output_type": "stream",
          "name": "stdout",
          "text": [
            "243.6\n"
          ]
        }
      ]
    },
    {
      "cell_type": "code",
      "source": [
        "#Task 4\n",
        "\n",
        "def replace_domain(email, newdmn, olddmn=\"\"):\n",
        "    counter = 0\n",
        "    for i in email:\n",
        "        if i == \"@\":\n",
        "            counter+=1\n",
        "            break\n",
        "        counter+=1\n",
        "    if olddmn!=\"\":\n",
        "        print(f\"Changed: {email[:counter]+newdmn}\")\n",
        "    else:\n",
        "        print(f\"Unhanged: {email[:counter]+newdmn}\")\n",
        "        \n",
        "replace_domain('alice@sheba.xyz', 'sheba.xyz', \"kaaj.com\")"
      ],
      "metadata": {
        "colab": {
          "base_uri": "https://localhost:8080/"
        },
        "id": "gLpTxsgbvHxY",
        "outputId": "eae21d35-73d6-4303-b212-37eec3c3f6f2"
      },
      "execution_count": null,
      "outputs": [
        {
          "output_type": "stream",
          "name": "stdout",
          "text": [
            "Changed: alice@sheba.xyz\n"
          ]
        }
      ]
    },
    {
      "cell_type": "code",
      "source": [
        "#Task 5\n",
        "\n",
        "def palindrome(word):\n",
        "    mod_word = \"\"\n",
        "    for i in word:\n",
        "        if i == \" \":\n",
        "            continue\n",
        "        else:\n",
        "            mod_word+=i\n",
        "            \n",
        "    reverse_word = mod_word[::-1]\n",
        "\n",
        "    if reverse_word == mod_word:\n",
        "        print(\"Palindrome\")\n",
        "    else:\n",
        "        print(\"Not a palindrome\")\n",
        "\n",
        "word = input(\"Please, input the word: \")\n",
        "palindrome(word)"
      ],
      "metadata": {
        "id": "XOfyEHAs79Lf",
        "colab": {
          "base_uri": "https://localhost:8080/"
        },
        "outputId": "d1351b1b-6adf-46b0-ebfa-fa19a4be37b8"
      },
      "execution_count": null,
      "outputs": [
        {
          "output_type": "stream",
          "name": "stdout",
          "text": [
            "Please, input the word: hello\n",
            "Not a palindrome\n"
          ]
        }
      ]
    },
    {
      "cell_type": "code",
      "source": [
        "#Task 6\n",
        "\n",
        "def capitalize(paragraph):\n",
        "    new_paragraph = \"\"\n",
        "    counter = 0\n",
        "    symbol = \".!?\"\n",
        "    for i in range(len(paragraph)):\n",
        "        if paragraph[i] == \" \":\n",
        "            new_paragraph+=paragraph[i]\n",
        "        elif i == 0:\n",
        "            new_paragraph+=chr(ord(paragraph[i])-32)\n",
        "        elif paragraph[i] == \"i\" and paragraph[i-1] == \" \" and paragraph[i+1] == \" \":\n",
        "            new_paragraph+=chr(ord(paragraph[i])-32)\n",
        "        elif paragraph[i] in symbol:\n",
        "            new_paragraph+=paragraph[i]\n",
        "            counter+=1\n",
        "        elif counter == 1:\n",
        "            new_paragraph+=chr(ord(paragraph[i])-32)\n",
        "            counter = 0\n",
        "        else:\n",
        "            new_paragraph+=paragraph[i]\n",
        "    \n",
        "    return new_paragraph\n",
        "\n",
        "paragraph = input(\"Please, enter the paragraph: \")\n",
        "\n",
        "print(capitalize(paragraph))\n",
        "\n"
      ],
      "metadata": {
        "colab": {
          "base_uri": "https://localhost:8080/"
        },
        "id": "BRhH05XHp-Qa",
        "outputId": "8e127995-efb4-40ee-aca8-0f348d5ccc87"
      },
      "execution_count": null,
      "outputs": [
        {
          "output_type": "stream",
          "name": "stdout",
          "text": [
            "Please, enter the paragraph: nothing is impossible. i have to do i mean? how funny! run.\n",
            "Nothing is impossible. I Have to do I mean? How funny! Run.\n"
          ]
        }
      ]
    }
  ]
}