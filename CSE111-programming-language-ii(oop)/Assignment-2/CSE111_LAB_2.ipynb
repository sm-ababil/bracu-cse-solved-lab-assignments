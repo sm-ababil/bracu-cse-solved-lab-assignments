{
  "nbformat": 4,
  "nbformat_minor": 0,
  "metadata": {
    "colab": {
      "provenance": []
    },
    "kernelspec": {
      "name": "python3",
      "display_name": "Python 3"
    },
    "language_info": {
      "name": "python"
    }
  },
  "cells": [
    {
      "cell_type": "code",
      "source": [
        "#Task 1\n",
        "\n",
        "class DataType:\n",
        "\n",
        "    def __init__(self, name, value):\n",
        "        self.name = name\n",
        "        self.value = value\n",
        "\n",
        "data_type1 = DataType(\"Integer\", 1234)\n",
        "print(data_type1.name)\n",
        "print(data_type1.value)\n",
        "print(\"=====================\")\n",
        "data_type2 = DataType(\"String\", \"Hello\")\n",
        "print(data_type2.name)\n",
        "print(data_type2.value)\n",
        "print(\"=====================\")\n",
        "data_type3 = DataType(\"Float\", 4.0)\n",
        "print(data_type3.name)\n",
        "print(data_type3.value)\n"
      ],
      "metadata": {
        "colab": {
          "base_uri": "https://localhost:8080/"
        },
        "id": "0U5um7F6TX37",
        "outputId": "e8dc1887-eb19-45c5-8902-ab70b4d1984f"
      },
      "execution_count": null,
      "outputs": [
        {
          "output_type": "stream",
          "name": "stdout",
          "text": [
            "Integer\n",
            "1234\n",
            "=====================\n",
            "String\n",
            "Hello\n",
            "=====================\n",
            "Float\n",
            "4.0\n"
          ]
        }
      ]
    },
    {
      "cell_type": "code",
      "source": [
        "#Task 2\n",
        "\n",
        "class Flower:\n",
        "\n",
        "    def __init__(self):\n",
        "        self.name = \"\"\n",
        "        self.color = \"\"\n",
        "        self.num_of_petal = \"\"\n",
        "\n",
        "flower1 = Flower()\n",
        "flower1.name = \"Rose\"\n",
        "flower1.color = \"Red\"\n",
        "flower1.num_of_petal = 6\n",
        "print(\"Name of this flower:\", flower1.name)\n",
        "print(\"Color of this flower:\",flower1.color)\n",
        "print(\"Number of petal:\",flower1.num_of_petal)\n",
        "print(\"=====================\")\n",
        "flower2 = Flower()\n",
        "flower2.name = \"Orchid\"\n",
        "flower2.color = \"Purple\"\n",
        "flower2.num_of_petal = 4\n",
        "print(\"Name of this flower:\",flower2.name)\n",
        "print(\"Color of this flower:\",flower2.color)\n",
        "print (\"Number of petal:\",flower2. num_of_petal)\n",
        "\n",
        "print(flower1)\n",
        "print(flower2)\n",
        "\n",
        "if flower1 == flower2:\n",
        "    print(\"they are same\")\n",
        "else:\n",
        "    print(\"they are different\")"
      ],
      "metadata": {
        "colab": {
          "base_uri": "https://localhost:8080/"
        },
        "id": "5-VDfML4UeIA",
        "outputId": "05de74e6-3457-4b53-e342-4aea75a4d406"
      },
      "execution_count": null,
      "outputs": [
        {
          "output_type": "stream",
          "name": "stdout",
          "text": [
            "Name of this flower: Rose\n",
            "Color of this flower: Red\n",
            "Number of petal: 6\n",
            "=====================\n",
            "Name of this flower: Orchid\n",
            "Color of this flower: Purple\n",
            "Number of petal: 4\n",
            "<__main__.Flower object at 0x7fa3fc888d90>\n",
            "<__main__.Flower object at 0x7fa3fc95abd0>\n",
            "they are different\n"
          ]
        }
      ]
    },
    {
      "cell_type": "code",
      "execution_count": null,
      "metadata": {
        "colab": {
          "base_uri": "https://localhost:8080/"
        },
        "id": "ags2BAf-O0LF",
        "outputId": "29d61a6b-8e56-4ad1-8836-a8b91693ba7d"
      },
      "outputs": [
        {
          "output_type": "stream",
          "name": "stdout",
          "text": [
            "Heath Ledger\n",
            "Mind Game\n",
            "False\n",
            "=====================\n",
            "Joaquin Phoenix\n",
            "Laughing out Loud\n",
            "True\n",
            "=====================\n",
            "different\n",
            "same\n",
            "<__main__.Joker object at 0x7fc918a550d0>\n",
            "<__main__.Joker object at 0x7fc918a39750>\n",
            "Heath Ledger\n",
            "Heath Ledger\n"
          ]
        }
      ],
      "source": [
        "#Task 3\n",
        "\n",
        "class Joker:\n",
        "\n",
        "    def __init__(self, name, power, is_he_psycho):\n",
        "        self.name = name\n",
        "        self.power = power\n",
        "        self.is_he_psycho = is_he_psycho\n",
        "\n",
        "j1 = Joker('Heath Ledger', 'Mind Game', False)\n",
        "print(j1.name)\n",
        "print(j1.power)\n",
        "print(j1.is_he_psycho)\n",
        "print(\"=====================\")\n",
        "j2 = Joker('Joaquin Phoenix', 'Laughing out Loud', True)\n",
        "print(j2.name)\n",
        "print(j2.power)\n",
        "print(j2.is_he_psycho)\n",
        "print(\"=====================\")\n",
        "if j1 == j2:\n",
        "    print('same')\n",
        "else:\n",
        "    print('different')\n",
        "j2.name = 'Heath Ledger'\n",
        "if j1.name == j2.name:\n",
        "    print('same')\n",
        "else:\n",
        "    print('different')\n",
        "\n",
        "print(\"Because their memory locations are different as they are different objects of Joker class.\")\n",
        "print(\"Because j1.name and j2.name have same string value.\")"
      ]
    },
    {
      "cell_type": "code",
      "source": [
        "#Task 4\n",
        "\n",
        "class Pokemon:\n",
        "\n",
        "    def __init__(self, pokemon1_name, pokemon2_name, pokemon1_power, pokemon2_power, damage_rate):\n",
        "        self.pokemon1_name = pokemon1_name\n",
        "        self.pokemon2_name = pokemon2_name\n",
        "        self.pokemon1_power = pokemon1_power\n",
        "        self.pokemon2_power = pokemon2_power\n",
        "        self.damage_rate = damage_rate\n",
        "\n",
        "team_pika = Pokemon('pikachu', 'charmander', 90, 60, 10)\n",
        "print('=======Team 1=======')\n",
        "print('Pokemon 1:',team_pika.pokemon1_name, team_pika.pokemon1_power)\n",
        "print('Pokemon 2:',team_pika.pokemon2_name, team_pika.pokemon2_power)\n",
        "pika_combined_power = (team_pika.pokemon1_power + team_pika.pokemon2_power) * team_pika.damage_rate\n",
        "print('Combined Power:', pika_combined_power)\n",
        "\n",
        "team_bulb = Pokemon('bulbasaur', 'squirtle', 80, 70, 9)\n",
        "print('=======Team 2=======')\n",
        "print('Pokemon 1:',team_bulb.pokemon1_name, team_bulb.pokemon1_power)\n",
        "print('Pokemon 2:',team_bulb.pokemon2_name, team_bulb.pokemon2_power)\n",
        "pika_combined_power = (team_bulb.pokemon1_power + team_bulb.pokemon2_power) * team_bulb.damage_rate\n",
        "print('Combined Power:', pika_combined_power)\n"
      ],
      "metadata": {
        "colab": {
          "base_uri": "https://localhost:8080/"
        },
        "id": "Yv4eX4mFQdZv",
        "outputId": "ca6dbb25-3654-4bf0-e339-886ddde93252"
      },
      "execution_count": null,
      "outputs": [
        {
          "output_type": "stream",
          "name": "stdout",
          "text": [
            "=======Team 1=======\n",
            "Pokemon 1: pikachu 90\n",
            "Pokemon 2: charmander 60\n",
            "Combined Power: 1500\n",
            "=======Team 2=======\n",
            "Pokemon 1: bulbasaur 80\n",
            "Pokemon 2: squirtle 70\n",
            "Combined Power: 1350\n"
          ]
        }
      ]
    },
    {
      "cell_type": "code",
      "source": [
        "#Task 5\n",
        "\n",
        "class Player:\n",
        "\n",
        "    def __init__(self):\n",
        "        self.name = None\n",
        "        self.jersy_number =None\n",
        "        self.position = None\n",
        "\n",
        "player1 = Player()\n",
        "player1.name = \"Ronaldo\"\n",
        "player1.jersy_number = 9\n",
        "player1.position = \"Striker\"\n",
        "print(\"Name of the Player:\", player1.name)\n",
        "print(\"Jersey Number of player:\", player1.jersy_number)\n",
        "print(\"Position of player:\", player1.position)\n",
        "print(\"===========================\")\n",
        "player2 = Player()\n",
        "player2.name = \"Neuer\"\n",
        "player2.jersy_number = 1\n",
        "player2.position = \"Goal Keeper\"\n",
        "print(\"Name of the player:\", player2.name)\n",
        "print(\"Jersey Number of player:\", player2.jersy_number)\n",
        "print(\"Position of player:\", player2.position)"
      ],
      "metadata": {
        "colab": {
          "base_uri": "https://localhost:8080/"
        },
        "id": "N8wXJ_3jbyha",
        "outputId": "225d5ad2-d81d-47eb-8490-c3dfd2a7daa3"
      },
      "execution_count": null,
      "outputs": [
        {
          "output_type": "stream",
          "name": "stdout",
          "text": [
            "Name of the Player: Ronaldo\n",
            "Jersey Number of player: 9\n",
            "Position of player: Striker\n",
            "===========================\n",
            "Name of the player: Neuer\n",
            "Jersey Number of player: 1\n",
            "Position of player: Goal Keeper\n"
          ]
        }
      ]
    },
    {
      "cell_type": "code",
      "source": [
        "#Task 6\n",
        "\n",
        "class Country:\n",
        "\n",
        "    def __init__(self):\n",
        "        self.name =\"Bangladesh\"\n",
        "        self.continent = 'Asia'\n",
        "        self.capital = \"Dhaka\"\n",
        "        self.fifa_ranking = 187\n",
        "\n",
        "country = Country()\n",
        "print('Name:',country.name)\n",
        "print('Continent:',country.continent)\n",
        "print('Capital:',country.capital)\n",
        "print('Fifa Ranking:',country.fifa_ranking)\n",
        "print('===================')\n",
        "country.name = \"Belgium\"\n",
        "country.continent = \"Europe\"\n",
        "country.capital = \"Brussels\"\n",
        "country.fifa_ranking = 1\n",
        "print('Name:',country.name)\n",
        "print('Continent:',country.continent)\n",
        "print('Capital:',country.capital)\n",
        "print('Fifa Ranking:',country.fifa_ranking)\n",
        "\n"
      ],
      "metadata": {
        "colab": {
          "base_uri": "https://localhost:8080/"
        },
        "id": "78CBJDYdYJny",
        "outputId": "7718a211-6db3-4020-b8d3-13ee3765befb"
      },
      "execution_count": null,
      "outputs": [
        {
          "output_type": "stream",
          "name": "stdout",
          "text": [
            "Name: Bangladesh\n",
            "Continent: Asia\n",
            "Capital: Dhaka\n",
            "Fifa Ranking: 187\n",
            "===================\n",
            "Name: Belgium\n",
            "Continent: Europe\n",
            "Capital: Brussels\n",
            "Fifa Ranking: 1\n"
          ]
        }
      ]
    },
    {
      "cell_type": "code",
      "source": [
        "#Task 7\n",
        "\n",
        "class DemonSlayer:\n",
        "\n",
        "    def __init__(self, name, style, number_of_technique, kill):\n",
        "        self.name = name\n",
        "        self.style = style\n",
        "        self.number_of_technique = number_of_technique\n",
        "        self.kill = kill\n",
        "\n",
        "tanjiro = DemonSlayer(\"Tanjiro\", \"Water Breathing\", 10, 10)\n",
        "print('Name:',tanjiro.name)\n",
        "print('Fighting Style:',tanjiro.style)\n",
        "print(f'Knows {tanjiro.number_of_technique} technique(s) and has killed {tanjiro.kill} demon(s)')\n",
        "print('===================')\n",
        "zenitsu = DemonSlayer(\"Zenitsu\", \"Thunder Breathing\", 1, 4)\n",
        "print('Name:',zenitsu.name)\n",
        "print('Fighting Style:',zenitsu.style)\n",
        "print(f'Knows {zenitsu.number_of_technique} technique(s) and has killed {zenitsu.kill} demon(s)')\n",
        "print('===================')\n",
        "inosuke = DemonSlayer(\"Inosuke\", \"Beast Breathing\", 5, 7)\n",
        "print('Name:',inosuke.name)\n",
        "print('Fighting Style:',inosuke.style)\n",
        "print(f'Knows {inosuke.number_of_technique} technique(s) and has killed {inosuke.kill} demon(s)')\n",
        "print('===================')\n",
        "print(f'{tanjiro.name}, {zenitsu.name}, {inosuke.name} knows total {tanjiro.number_of_technique + zenitsu.number_of_technique + inosuke.number_of_technique} techniques')\n",
        "print(f'They have killed total {tanjiro.kill + zenitsu.kill + inosuke.kill} demons')\n"
      ],
      "metadata": {
        "colab": {
          "base_uri": "https://localhost:8080/"
        },
        "id": "2Pi99uL4aJkI",
        "outputId": "a4b77a8d-0c15-4c51-868b-94a3e014d510"
      },
      "execution_count": null,
      "outputs": [
        {
          "output_type": "stream",
          "name": "stdout",
          "text": [
            "Name: Tanjiro\n",
            "Fighting Style: Water Breathing\n",
            "Knows 10 technique(s) and has killed 10 demon(s)\n",
            "===================\n",
            "Name: Zenitsu\n",
            "Fighting Style: Thunder Breathing\n",
            "Knows 1 technique(s) and has killed 4 demon(s)\n",
            "===================\n",
            "Name: Inosuke\n",
            "Fighting Style: Beast Breathing\n",
            "Knows 5 technique(s) and has killed 7 demon(s)\n",
            "===================\n",
            "Tanjiro, Zenitsu, Inosuke knows total 16 techniques\n",
            "They have killed total 21 demons\n"
          ]
        }
      ]
    },
    {
      "cell_type": "code",
      "source": [
        "#Task 8\n",
        "\n",
        "class box:\n",
        "\n",
        "    def __init__(self, list1):\n",
        "        self.height = list1[0]\n",
        "        self.width = list1[1]\n",
        "        self.breadth = list1[2]\n",
        "        print(\"Creating a Box!\")\n",
        "        print(f\"Volume of the box is {self.height*self.width*self.breadth} cubic units.\")\n",
        "\n",
        "print(\"Box 1\")\n",
        "b1 = box([10,10,10])\n",
        "print(\"=========================\")\n",
        "print(\"Height:\", b1.height)\n",
        "print(\"Width:\", b1.width)\n",
        "print(\"Breadth:\", b1.breadth)\n",
        "print(\"-------------------------\")\n",
        "print(\"Box 2\")\n",
        "b2 = box((30,10,10))\n",
        "print(\"=========================\")\n",
        "print(\"Height:\", b2.height)\n",
        "print(\"Width:\", b2.width)\n",
        "print(\"Breadth:\", b2.breadth)\n",
        "b2.height = 300\n",
        "print(\"Updating Box 2!\")\n",
        "print(\"Height:\", b2.height)\n",
        "print(\"Width:\", b2.width)\n",
        "print(\"Breadth:\", b2.breadth)\n",
        "print(\"-------------------------\")\n",
        "print(\"Box 3\")\n",
        "b3 = b2\n",
        "print(\"Height:\", b3.height)\n",
        "print(\"Width:\", b3.width)\n",
        "print(\"Breadth:\", b3.breadth)\n",
        "\n",
        "\n"
      ],
      "metadata": {
        "id": "wOjR1muOe8xS",
        "colab": {
          "base_uri": "https://localhost:8080/"
        },
        "outputId": "dad53196-e867-4cc1-ce2a-3715b23885f1"
      },
      "execution_count": null,
      "outputs": [
        {
          "output_type": "stream",
          "name": "stdout",
          "text": [
            "Box 1\n",
            "Creating a Box!\n",
            "Volume of the box is 1000 cubic units.\n",
            "=========================\n",
            "Height: 10\n",
            "Width: 10\n",
            "Breadth: 10\n",
            "-------------------------\n",
            "Box 2\n",
            "Creating a Box!\n",
            "Volume of the box is 3000 cubic units.\n",
            "=========================\n",
            "Height: 30\n",
            "Width: 10\n",
            "Breadth: 10\n",
            "Updating Box 2!\n",
            "Height: 300\n",
            "Width: 10\n",
            "Breadth: 10\n",
            "-------------------------\n",
            "Box 3\n",
            "Height: 300\n",
            "Width: 10\n",
            "Breadth: 10\n"
          ]
        }
      ]
    },
    {
      "cell_type": "code",
      "source": [
        "#Task 9\n",
        "\n",
        "class buttons:\n",
        "\n",
        "    def __init__(self, word, spaces, border):\n",
        "        self.word = word\n",
        "        self.spaces = spaces\n",
        "        self.border = border\n",
        "        topbottom_border = 1+self.spaces+len(self.word)+self.spaces+1\n",
        "        print(self.word,\"Button Specification:\")\n",
        "        print(\"Button Name:\",self.word)\n",
        "        print(\"Number of the border characters for the top and the bottom:\",topbottom_border)\n",
        "        print(\"Number of spaces between the left side border and the first character of the button name:\",self.spaces)\n",
        "        print(\"Number of spaces between the right side border and the last character of the button name:\",self.spaces)\n",
        "        print(\"Characters representing the borders:\",self.border,\"\\n\")\n",
        "        print(self.border * topbottom_border)\n",
        "        print(self.border+(\" \" * self.spaces)+self.word+(\" \" * self.spaces)+self.border)\n",
        "        print(self.border * topbottom_border)\n",
        "\n",
        "word = \"CANCEL\"  \n",
        "spaces = 10\n",
        "border = 'x'\n",
        "b1 = buttons(word, spaces, border)\n",
        "print(\"=======================================================\")\n",
        "b2 = buttons(\"Notify\",3, '!')\n",
        "print(\"=======================================================\")\n",
        "b3 = buttons('SAVE PROGRESS', 5, '$')"
      ],
      "metadata": {
        "colab": {
          "base_uri": "https://localhost:8080/"
        },
        "id": "bWAcVi1HbUlq",
        "outputId": "956ed6ac-2c9d-4f43-961d-f5709a17d63d"
      },
      "execution_count": null,
      "outputs": [
        {
          "output_type": "stream",
          "name": "stdout",
          "text": [
            "CANCEL Button Specification:\n",
            "Button Name: CANCEL\n",
            "Number of the border characters for the top and the bottom: 28\n",
            "Number of spaces between the left side border and the first character of the button name: 10\n",
            "Number of spaces between the right side border and the last character of the button name: 10\n",
            "Characters representing the borders: x \n",
            "\n",
            "xxxxxxxxxxxxxxxxxxxxxxxxxxxx\n",
            "x          CANCEL          x\n",
            "xxxxxxxxxxxxxxxxxxxxxxxxxxxx\n",
            "=======================================================\n",
            "Notify Button Specification:\n",
            "Button Name: Notify\n",
            "Number of the border characters for the top and the bottom: 14\n",
            "Number of spaces between the left side border and the first character of the button name: 3\n",
            "Number of spaces between the right side border and the last character of the button name: 3\n",
            "Characters representing the borders: ! \n",
            "\n",
            "!!!!!!!!!!!!!!\n",
            "!   Notify   !\n",
            "!!!!!!!!!!!!!!\n",
            "=======================================================\n",
            "SAVE PROGRESS Button Specification:\n",
            "Button Name: SAVE PROGRESS\n",
            "Number of the border characters for the top and the bottom: 25\n",
            "Number of spaces between the left side border and the first character of the button name: 5\n",
            "Number of spaces between the right side border and the last character of the button name: 5\n",
            "Characters representing the borders: $ \n",
            "\n",
            "$$$$$$$$$$$$$$$$$$$$$$$$$\n",
            "$     SAVE PROGRESS     $\n",
            "$$$$$$$$$$$$$$$$$$$$$$$$$\n"
          ]
        }
      ]
    },
    {
      "cell_type": "code",
      "source": [
        "#Task 10\n",
        "\n",
        "class Wadiya():\n",
        "\n",
        "    def __init__(self):\n",
        "        self.name = 'Aladeen'\n",
        "        self.designation = 'President Prime Minister Admiral General'\n",
        "        self.num_of_wife = 100\n",
        "        self.dictator = True\n",
        "\n",
        "wadiya = Wadiya()\n",
        "print(\"Part 1:\")\n",
        "print(\"Name of President:\",wadiya.name)\n",
        "print(\"Designation:\",wadiya.designation)\n",
        "print(\"Number of wife:\",wadiya.num_of_wife)\n",
        "print(\"Is he/she a dictator:\",wadiya.dictator)\n",
        "\n",
        "wadiya.name = \"Donald Trump\"\n",
        "wadiya.designation = \"President\"\n",
        "wadiya.num_of_wife = 1\n",
        "wadiya.dictator = False\n",
        "print(\"Part 2:\")\n",
        "print(\"Name of President:\",wadiya.name)\n",
        "print(\"Designation:\",wadiya.designation)\n",
        "print(\"Number of wife:\",wadiya.num_of_wife)\n",
        "print(\"Is he/she a dictator:\",wadiya.dictator)\n",
        "print(\"previous information lost\")"
      ],
      "metadata": {
        "colab": {
          "base_uri": "https://localhost:8080/"
        },
        "id": "FT4XsnxPg78E",
        "outputId": "24cafd60-304e-443d-ae59-4beb2513a612"
      },
      "execution_count": null,
      "outputs": [
        {
          "output_type": "stream",
          "name": "stdout",
          "text": [
            "Part 1:\n",
            "Name of President: Aladeen\n",
            "Designation: President Prime Minister Admiral General\n",
            "Number of wife: 100\n",
            "Is he/she a dictator: True\n",
            "Part 2:\n",
            "Name of President: Donald Trump\n",
            "Designation: President\n",
            "Number of wife: 1\n",
            "Is he/she a dictator: False\n",
            "previous information lost\n"
          ]
        }
      ]
    },
    {
      "cell_type": "code",
      "source": [
        "#Task 11\n",
        "\n",
        "class Human:\n",
        "    def __init__(self):\n",
        "        self.age = 0\n",
        "        self.height = 0.0\n",
        "\n",
        "\n",
        "h1 = Human()\n",
        "h2 = Human()\n",
        "h1.age = 21\n",
        "h1.height = 5.5\n",
        "print(h1.age)\n",
        "print(h1.height)\n",
        "h2.height = h1.height - 3\n",
        "print(h2.height)\n",
        "h2.age = h1.age\n",
        "h1.age += h1.age\n",
        "print(h1.age)\n",
        "h2 = h1\n",
        "print(h2.age)\n",
        "print(h2.height)\n",
        "h1.age += h1.age\n",
        "h2.height += h2.height\n",
        "print(h1.age)\n",
        "print(h1.height)\n",
        "h2.age += h2.age\n",
        "h1.age = h2.age\n",
        "print(h2.age)"
      ],
      "metadata": {
        "colab": {
          "base_uri": "https://localhost:8080/"
        },
        "id": "f4LdjPP15rpa",
        "outputId": "36bc81b9-1371-413c-c17f-9985547db77c"
      },
      "execution_count": null,
      "outputs": [
        {
          "output_type": "stream",
          "name": "stdout",
          "text": [
            "21\n",
            "5.5\n",
            "2.5\n",
            "42\n",
            "42\n",
            "5.5\n",
            "84\n",
            "11.0\n",
            "168\n"
          ]
        }
      ]
    },
    {
      "cell_type": "code",
      "source": [
        "class Human:\n",
        "    def __init__(self):\n",
        "        self.age = 0\n",
        "        self.height = 0.0\n",
        "\n",
        "h1 = Human()\n",
        "h2 = Human()\n",
        "print(h1)\n",
        "print(h2)\n",
        "\n",
        "h1 = h2\n",
        "\n",
        "print(h1)\n",
        "print(h2)"
      ],
      "metadata": {
        "colab": {
          "base_uri": "https://localhost:8080/"
        },
        "id": "NqwD5k4Q7QCb",
        "outputId": "4c08610c-0983-4df1-bccb-3c88a86212fc"
      },
      "execution_count": null,
      "outputs": [
        {
          "output_type": "stream",
          "name": "stdout",
          "text": [
            "<__main__.Human object at 0x7fa3fc86d4d0>\n",
            "<__main__.Human object at 0x7fa3fc86d350>\n",
            "<__main__.Human object at 0x7fa3fc86d350>\n",
            "<__main__.Human object at 0x7fa3fc86d350>\n"
          ]
        }
      ]
    },
    {
      "cell_type": "code",
      "source": [
        "#Task 12\n",
        "\n",
        "class Student:\n",
        "    def __init__(self):\n",
        "        self.name = None\n",
        "        self.cgpa = 0.0\n",
        "s1 = Student()\n",
        "s2 = Student()\n",
        "s3 = None\n",
        "s1.name = \"Student One\"\n",
        "s1.cgpa = 2.3\n",
        "s3 = s1\n",
        "s2.name = \"Student Two\"\n",
        "s2.cgpa = s3.cgpa + 1\n",
        "s3.name = \"New Student\"\n",
        "print(s1.name)\n",
        "print(s2.name)\n",
        "print(s3.name)\n",
        "print(s1.cgpa)\n",
        "print(s2.cgpa)\n",
        "print(s3.cgpa)\n",
        "s3 = s2\n",
        "s1.name = \"old student\"\n",
        "s2.name = \"older student\"\n",
        "s3.name = \"oldest student\"\n",
        "s2.cgpa = s1.cgpa - s3.cgpa + 4.5\n",
        "print(s1.name)\n",
        "print(s2.name)\n",
        "print(s3.name)\n",
        "print(s1.cgpa)\n",
        "print(s2.cgpa)\n",
        "print(s3.cgpa)"
      ],
      "metadata": {
        "colab": {
          "base_uri": "https://localhost:8080/"
        },
        "id": "AmY0mFZwMKF0",
        "outputId": "66d2cbcd-7cf3-418a-cd0b-63f30c652c92"
      },
      "execution_count": null,
      "outputs": [
        {
          "output_type": "stream",
          "name": "stdout",
          "text": [
            "New Student\n",
            "Student Two\n",
            "New Student\n",
            "2.3\n",
            "3.3\n",
            "2.3\n",
            "old student\n",
            "oldest student\n",
            "oldest student\n",
            "2.3\n",
            "3.5\n",
            "3.5\n"
          ]
        }
      ]
    },
    {
      "cell_type": "code",
      "source": [
        "#Task 13\n",
        "\n",
        "class Ninja:\n",
        "    def __init__(self):\n",
        "        self.rank = 0\n",
        "        self.stamina = 0.0\n",
        "\n",
        "\n",
        "naruto = Ninja()\n",
        "yellow_flash = Ninja()\n",
        "naruto.rank = 1\n",
        "naruto.stamina = 95.0\n",
        "print(naruto.rank)\n",
        "print(naruto.stamina)\n",
        "yellow_flash.stamina = naruto.stamina - 2\n",
        "print(yellow_flash.stamina)\n",
        "yellow_flash.rank += (naruto.rank + 1)\n",
        "print(yellow_flash.rank)\n",
        "minato = yellow_flash\n",
        "print(minato.rank)\n",
        "print(minato.stamina)\n",
        "naruto.rank = minato.rank - 1\n",
        "naruto.stamina = yellow_flash.stamina + 3\n",
        "print(naruto.rank)\n",
        "print(naruto.stamina)\n",
        "naruto.rank = -(-naruto.rank)\n",
        "yellow_flash.stamina = -(-minato.stamina)\n",
        "print(naruto.rank)\n",
        "print(minato.stamina)"
      ],
      "metadata": {
        "colab": {
          "base_uri": "https://localhost:8080/"
        },
        "id": "QZpvQ_9TSpWB",
        "outputId": "25db5741-aaeb-421c-969f-d67f4fe0506d"
      },
      "execution_count": null,
      "outputs": [
        {
          "output_type": "stream",
          "name": "stdout",
          "text": [
            "1\n",
            "95.0\n",
            "93.0\n",
            "2\n",
            "2\n",
            "93.0\n",
            "1\n",
            "96.0\n",
            "1\n",
            "93.0\n"
          ]
        }
      ]
    }
  ]
}